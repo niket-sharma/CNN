{
 "cells": [
  {
   "cell_type": "markdown",
   "metadata": {
    "id": "fj798spImN3N"
   },
   "source": [
    "\n",
    "\n",
    "1. PyTorch Basics\n",
    "    - Toy example with PyTorch\n",
    "2. Image Classification with PyTorch\n",
    "    - Implement a simple MLP network for image classification\n",
    "    - Implement a convolutional network for image classification\n",
    "    - Experiment with different numbers of layers and optimizers\n",
    "    - Push the performance of your CNN\n",
    "\n"
   ]
  },
  {
   "cell_type": "markdown",
   "metadata": {
    "id": "hfhW52lsmN3R"
   },
   "source": [
    "In this homework, you would need to use **Python 3.6+** along with the following packages:\n",
    "```\n",
    "1. pytorch 1.2\n",
    "2. torchvision\n",
    "3. numpy\n",
    "4. matplotlib\n",
    "```\n",
    "To install pytorch, please follow the instructions on the [Official website](https://pytorch.org/). In addition, the [official document](https://pytorch.org/docs/stable/) could be very helpful when you want to find certain functionalities. \n",
    "\n",
    "You can also consider to use Google Colab, where PyTorch has been installed."
   ]
  },
  {
   "cell_type": "markdown",
   "metadata": {
    "id": "jhuJCQ00mN3S"
   },
   "source": [
    "# Section 1. PyTorch Basics"
   ]
  },
  {
   "cell_type": "markdown",
   "metadata": {
    "id": "AbpkNgExmN3U"
   },
   "source": [
    "Simply put, PyTorch is a **Tensor** library like Numpy. These two libraries similarly provide useful and efficient APIs for you to deal with your tensor data. What really differentiate PyTorch from Numpy are the following two features:\n",
    "1. Numerical operations that can **run on GPUs** (more than 10x speedup)\n",
    "2. Automatic differentiation for building and training neural networks\n",
    "\n",
    "In this section, we will walk through some simple example, and see how the automatic differentiation functionality can make your life much easier."
   ]
  },
  {
   "cell_type": "markdown",
   "metadata": {
    "id": "IQQXAQv5mN3V"
   },
   "source": [
    "### To select GPU in Google Colab:\n",
    "- go to **Edit -> Notebook settings -> Hardware accelerator -> GPU**"
   ]
  },
  {
   "cell_type": "code",
   "execution_count": null,
   "metadata": {
    "id": "f7wX-pIFmN3X"
   },
   "outputs": [],
   "source": [
    "import torch # import pytorch.\n",
    "import torch.nn as nn"
   ]
  },
  {
   "cell_type": "code",
   "execution_count": null,
   "metadata": {
    "id": "JSWC55uDmN3f"
   },
   "outputs": [],
   "source": [
    "dtype = torch.float\n",
    "device = torch.device(\"cpu\")\n",
    "#device = torch.device(\"cuda:0\") # Uncomment this to run on GPU\n",
    "#print(torch.cuda.get_device_name(0)) # Check GPU Device name"
   ]
  },
  {
   "cell_type": "markdown",
   "metadata": {
    "id": "gecUPQG9mN3n"
   },
   "source": [
    "## 1.1. Automatic Differentiation\n",
    "Gradient descent is the driving force of the deep learning field. In the lectures and assignment 1, we learned how to derive the gradient for a given function, and implement methods for calculating and performing gradient descents. We also see how we can manually implement the backward and forward functions for the simple NN example. While implementing these functions may not be a big deal for a small network, it may get very nasty when we want to build something with tens of hundreds of layers.\n",
    "\n",
    "In PyTorch (as well as other major deep learning libraries), we can use autograd ([automatic differentiation](https://en.wikipedia.org/wiki/Automatic_differentiation)) to handle the tedious computation of backward passes. When doing forward passes with autograd, we are essentially defining a **computational graph**, while the nodes in the graph are **tensors**, the edges are the functions that produce output tensors (e.g. ReLU, Linear, Convolutional Layer) given the input tensors. To do backpropagation, we can simply backtrack through this graph to compute gradients. \n",
    "\n",
    "This may sound a little bit abstract, so let's take a look at the example:"
   ]
  },
  {
   "cell_type": "code",
   "execution_count": null,
   "metadata": {
    "id": "fci1Bw9_mN3o",
    "outputId": "5ce1aa06-8d73-4c54-e9fc-b15ff0d77211"
   },
   "outputs": [
    {
     "name": "stdout",
     "output_type": "stream",
     "text": [
      "tensor([[-0.4944,  1.4592],\n",
      "        [ 0.4258, -0.0716]], requires_grad=True)\n",
      "tensor([[-1.2824, -0.2203],\n",
      "        [-0.4580, -0.4354]], requires_grad=True)\n",
      "tensor([[-1.7768,  1.2390],\n",
      "        [-0.0322, -0.5070]], grad_fn=<AddBackward0>)\n",
      "tensor(-1.0771, grad_fn=<SumBackward0>)\n",
      "tensor(-11.0771, grad_fn=<SubBackward0>)\n",
      "-----gradient-----\n",
      "None\n",
      "None\n"
     ]
    }
   ],
   "source": [
    "target = 10.\n",
    "\n",
    "# create a matrix of size 2x2. Each with value draws from standard normal distribution.\n",
    "x = torch.randn(2, 2, requires_grad=True) \n",
    "y = torch.randn(2, 2, requires_grad=True)\n",
    "\n",
    "a = x + y\n",
    "b = a.sum()\n",
    "loss = b - target\n",
    "\n",
    "# print out each tensor:\n",
    "print(x)\n",
    "print(y)\n",
    "print(a)\n",
    "print(b)\n",
    "print(loss)\n",
    "\n",
    "print(\"-----gradient-----\")\n",
    "print(x.grad)\n",
    "print(y.grad)"
   ]
  },
  {
   "cell_type": "markdown",
   "metadata": {
    "id": "wa58EGucmN3w"
   },
   "source": [
    "In the above example, we have seen a few things:\n",
    "1. `requires_grad` flag: If false, we can safely exclude this tensor (and its subgraph) from gradient computation and therefore increase efficiency.\n",
    "2. `grad_fn`: we can see that once an operation is done to a tensor, the output tensor is bound to a backward function associated to the operation. In this case, we have Add, Sum, and Sub.\n",
    "\n",
    "However, even if we set `requires_grad=True`, we still don't have gradient for `x` and `y`. This is because that we haven't performed the backpropagation yet. So let's do it:"
   ]
  },
  {
   "cell_type": "code",
   "execution_count": null,
   "metadata": {
    "id": "l_ECvgoTmN3x",
    "outputId": "f5cad53e-9d56-4f4d-f13e-a74025150369"
   },
   "outputs": [
    {
     "name": "stdout",
     "output_type": "stream",
     "text": [
      "-----gradient-----\n",
      "tensor([[1., 1.],\n",
      "        [1., 1.]])\n",
      "tensor([[1., 1.],\n",
      "        [1., 1.]])\n"
     ]
    }
   ],
   "source": [
    "# perform backpropagation from this \"node\"\n",
    "loss.backward()\n",
    "print('-----gradient-----')\n",
    "print(x.grad)\n",
    "print(y.grad)"
   ]
  },
  {
   "cell_type": "markdown",
   "metadata": {
    "id": "zCjGoYvqmN34"
   },
   "source": [
    "Great, seems like we can perform gradient descent without writing backwards function! Now, let's see a simple toy example on how we can fit some weights `w1` and `w2` with random input `x` and target `y`: "
   ]
  },
  {
   "cell_type": "code",
   "execution_count": null,
   "metadata": {
    "id": "j1XmyMqqmN35",
    "outputId": "60d2cb0d-17ca-427a-e21a-9183c2b29453"
   },
   "outputs": [
    {
     "name": "stdout",
     "output_type": "stream",
     "text": [
      "iteration 99: 341.04962158203125\n",
      "iteration 199: 1.6489198207855225\n",
      "iteration 299: 0.0150656308978796\n",
      "iteration 399: 0.00035873911110684276\n",
      "iteration 499: 5.391986996983178e-05\n"
     ]
    }
   ],
   "source": [
    "# N is batch size; D_in is input dimension;\n",
    "# H is hidden dimension; D_out is output dimension.\n",
    "N, D_in, H, D_out = 64, 1000, 100, 10\n",
    "\n",
    "# Create random Tensors to hold input and outputs.\n",
    "# Setting requires_grad=False indicates that we do not need to compute gradients\n",
    "# with respect to these Tensors during the backward pass.\n",
    "x = torch.randn(N, D_in, device=device, dtype=dtype)\n",
    "y = torch.randn(N, D_out, device=device, dtype=dtype)\n",
    "\n",
    "# Create random Tensors for weights.\n",
    "# Setting requires_grad=True indicates that we want to compute gradients with\n",
    "# respect to these Tensors during the backward pass.\n",
    "w1 = torch.randn(D_in, H, device=device, dtype=dtype, requires_grad=True)\n",
    "w2 = torch.randn(H, D_out, device=device, dtype=dtype, requires_grad=True)\n",
    "\n",
    "learning_rate = 1e-6\n",
    "for t in range(500):\n",
    "    # Forward pass: compute predicted y using operations on Tensors; these\n",
    "    # are exactly the same operations we used to compute the forward pass using\n",
    "    # Tensors, but we do not need to keep references to intermediate values since\n",
    "    # we are not implementing the backward pass by hand.\n",
    "    y_pred = x.mm(w1).clamp(min=0).mm(w2)\n",
    "\n",
    "    # Compute and print loss using operations on Tensors.\n",
    "    # Now loss is a Tensor of shape (1,)\n",
    "    # loss.item() gets the scalar value held in the loss.\n",
    "    loss = (y_pred - y).pow(2).sum()\n",
    "    if t % 100 == 99:\n",
    "        print(f'iteration {t}: {loss.item()}')\n",
    "    # Use autograd to compute the backward pass. This call will compute the\n",
    "    # gradient of loss with respect to all Tensors with requires_grad=True.\n",
    "    # After this call w1.grad and w2.grad will be Tensors holding the gradient\n",
    "    # of the loss with respect to w1 and w2 respectively.\n",
    "    loss.backward()\n",
    "\n",
    "    # Manually update weights using gradient descent. Wrap in torch.no_grad()\n",
    "    # because weights have requires_grad=True, but we don't need to track this\n",
    "    # in autograd.  (because we don't need the gradient for the operation \n",
    "    # learning_rate * w1.grad)\n",
    "    # An alternative way is to operate on weight.data and weight.grad.data.\n",
    "    # Recall that tensor.data gives a tensor that shares the storage with\n",
    "    # tensor, but doesn't track history.\n",
    "    # You can also use torch.optim.SGD to achieve this.\n",
    "    with torch.no_grad():\n",
    "        w1 -= learning_rate * w1.grad\n",
    "        w2 -= learning_rate * w2.grad\n",
    "\n",
    "        # Manually zero the gradients after updating weights\n",
    "        w1.grad.zero_()\n",
    "        w2.grad.zero_()"
   ]
  },
  {
   "cell_type": "markdown",
   "metadata": {
    "id": "BjAwXuQOmN4A"
   },
   "source": [
    "## 1.2. `nn` Module\n",
    "Computational graphs and autograd are a very powerful paradigm for defining complex operators and automatically taking derivatives; however for large neural networks raw autograd can be a bit too low-level.\n",
    "\n",
    "When building neural networks we frequently think of arranging the computation into layers, some of which have learnable parameters which will be optimized during learning.\n",
    "\n",
    "In PyTorch, the nn package serves this purpose. The nn package defines a set of Modules, which are roughly equivalent to neural network layers. A Module receives input Tensors and computes output Tensors, but may also hold internal state such as Tensors containing learnable parameters. The nn package also defines a set of useful loss functions that are commonly used when training neural networks.\n",
    "\n",
    "Now, let's see how our simple NN could be implemented using the nn module."
   ]
  },
  {
   "cell_type": "code",
   "execution_count": null,
   "metadata": {
    "id": "gyow0LgUmN4C"
   },
   "outputs": [],
   "source": [
    "import torch.nn as nn\n",
    "# N is batch size; D_in is input dimension;\n",
    "# H is hidden dimension; D_out is output dimension.\n",
    "N, D_in, H, D_out = 64, 1000, 100, 10\n",
    "\n",
    "# Create random Tensors to hold inputs and outputs\n",
    "x = torch.randn(N, D_in)\n",
    "y = torch.randn(N, D_out)\n",
    "\n",
    "# Use the nn package to define our model as a sequence of layers. nn.Sequential\n",
    "# is a Module which contains other Modules, and applies them in sequence to\n",
    "# produce its output. Each Linear Module computes output from input using a\n",
    "# linear function, and holds internal Tensors for its weight and bias.\n",
    "model = nn.Sequential(\n",
    "    nn.Linear(D_in, H),\n",
    "    nn.ReLU(),\n",
    "    nn.Linear(H, D_out),\n",
    ")\n",
    "\n",
    "# The nn package also contains definitions of popular loss functions; in this\n",
    "# case we will use Mean Squared Error (MSE) as our loss function.\n",
    "loss_fn = nn.MSELoss(reduction='sum')\n",
    "\n",
    "learning_rate = 1e-4\n",
    "for t in range(500):\n",
    "    # Forward pass: compute predicted y by passing x to the model. Module objects\n",
    "    # override the __call__ operator so you can call them like functions. When\n",
    "    # doing so you pass a Tensor of input data to the Module and it produces\n",
    "    # a Tensor of output data.\n",
    "    y_pred = model(x)\n",
    "\n",
    "    # Compute and print loss. We pass Tensors containing the predicted and true\n",
    "    # values of y, and the loss function returns a Tensor containing the\n",
    "    # loss.\n",
    "    loss = loss_fn(y_pred, y)\n",
    "    if t % 100 == 99:\n",
    "        print(f'iteration {t}: {loss.item()}')\n",
    "\n",
    "    # Zero the gradients before running the backward pass.\n",
    "    model.zero_grad()\n",
    "\n",
    "    # Backward pass: compute gradient of the loss with respect to all the learnable\n",
    "    # parameters of the model. Internally, the parameters of each Module are stored\n",
    "    # in Tensors with requires_grad=True, so this call will compute gradients for\n",
    "    # all learnable parameters in the model.\n",
    "    loss.backward()\n",
    "\n",
    "    # Update the weights using gradient descent. Each parameter is a Tensor, so\n",
    "    # we can access its gradients like we did before.\n",
    "    with torch.no_grad():\n",
    "        for param in model.parameters():\n",
    "            param -= learning_rate * param.grad"
   ]
  },
  {
   "cell_type": "markdown",
   "metadata": {
    "id": "gneQKfwxmN4I"
   },
   "source": [
    "So far, we have been updating the model parameters manually with `torch.no_grad()`. However, if we want to use optimization algorithms other than SGD, it might get a bit nasty to do it manually. Instead of manually doing this, we can use `optim` pacakge to help optimize our model: "
   ]
  },
  {
   "cell_type": "code",
   "execution_count": null,
   "metadata": {
    "id": "RIzAkrdZmN4J"
   },
   "outputs": [],
   "source": [
    "N, D_in, H, D_out = 64, 1000, 100, 10\n",
    "\n",
    "# Create random Tensors to hold inputs and outputs\n",
    "x = torch.randn(N, D_in)\n",
    "y = torch.randn(N, D_out)\n",
    "\n",
    "# Use the nn package to define our model and loss function.\n",
    "model = nn.Sequential(\n",
    "    nn.Linear(D_in, H),\n",
    "    nn.ReLU(),\n",
    "    nn.Linear(H, D_out),\n",
    ")\n",
    "loss_fn = torch.nn.MSELoss(reduction='sum')\n",
    "\n",
    "# Use the optim package to define an Optimizer that will update the weights of\n",
    "# the model for us. \n",
    "learning_rate = 1e-4\n",
    "optimizer = torch.optim.SGD(model.parameters(), lr=learning_rate)\n",
    "for t in range(500):\n",
    "    # Forward pass: compute predicted y by passing x to the model.\n",
    "    y_pred = model(x)\n",
    "\n",
    "    # Compute and print loss.\n",
    "    loss = loss_fn(y_pred, y)\n",
    "    if t % 100 == 99:\n",
    "        print(f'iteration {t}: {loss.item()}')\n",
    "\n",
    "    # Before the backward pass, use the optimizer object to zero all of the\n",
    "    # gradients for the variables it will update (which are the learnable\n",
    "    # weights of the model). This is because by default, gradients are\n",
    "    # accumulated in buffers( i.e, not overwritten) whenever .backward()\n",
    "    # is called. Checkout docs of torch.autograd.backward for more details.\n",
    "    optimizer.zero_grad()\n",
    "\n",
    "    # Backward pass: compute gradient of the loss with respect to model\n",
    "    # parameters\n",
    "    loss.backward()\n",
    "\n",
    "    # Calling the step function on an Optimizer makes an update to its\n",
    "    # parameters\n",
    "    optimizer.step()"
   ]
  },
  {
   "cell_type": "markdown",
   "metadata": {
    "id": "ymuIiWcGmN4P"
   },
   "source": [
    "Sometimes you will want to specify models that are more complex than a sequence of existing Modules; for these cases you can define your own Modules by subclassing nn.Module and defining a forward which receives input Tensors and produces output Tensors using other modules or other autograd operations on Tensors.\n",
    "\n",
    "For example, we can implement our 2-layer simple NN as the following:"
   ]
  },
  {
   "cell_type": "code",
   "execution_count": null,
   "metadata": {
    "id": "IgHoYfcUmN4Q"
   },
   "outputs": [],
   "source": [
    "class TwoLayerNet(nn.Module):\n",
    "    def __init__(self, D_in, H, D_out):\n",
    "        \"\"\"\n",
    "        In the constructor we instantiate two nn.Linear modules and assign them as\n",
    "        member variables.\n",
    "        \"\"\"\n",
    "        super(TwoLayerNet, self).__init__()\n",
    "        self.linear1 = nn.Linear(D_in, H)\n",
    "        self.linear2 = nn.Linear(H, D_out)\n",
    "\n",
    "    def forward(self, x):\n",
    "        \"\"\"\n",
    "        In the forward function we accept a Tensor of input data and we must return\n",
    "        a Tensor of output data. We can use Modules defined in the constructor as\n",
    "        well as arbitrary operators on Tensors.\n",
    "        \"\"\"\n",
    "        h_relu = self.linear1(x).clamp(min=0)\n",
    "        y_pred = self.linear2(h_relu)\n",
    "        return y_pred\n",
    "\n",
    "\n",
    "# N is batch size; D_in is input dimension;\n",
    "# H is hidden dimension; D_out is output dimension.\n",
    "N, D_in, H, D_out = 64, 1000, 100, 10\n",
    "\n",
    "# Create random Tensors to hold inputs and outputs\n",
    "x = torch.randn(N, D_in)\n",
    "y = torch.randn(N, D_out)\n",
    "\n",
    "# Construct our model by instantiating the class defined above\n",
    "model = TwoLayerNet(D_in, H, D_out)\n",
    "\n",
    "# Construct our loss function and an Optimizer. The call to model.parameters()\n",
    "# in the SGD constructor will contain the learnable parameters of the two\n",
    "# nn.Linear modules which are members of the model.\n",
    "criterion = nn.MSELoss(reduction='sum')\n",
    "optimizer = torch.optim.SGD(model.parameters(), lr=1e-4)\n",
    "for t in range(500):\n",
    "    # Forward pass: Compute predicted y by passing x to the model\n",
    "    y_pred = model(x)\n",
    "\n",
    "    # Compute and print loss\n",
    "    loss = criterion(y_pred, y)\n",
    "    if t % 100 == 99:\n",
    "        print(f'iteration {t}: {loss.item()}')\n",
    "\n",
    "    # Zero gradients, perform a backward pass, and update the weights.\n",
    "    optimizer.zero_grad()\n",
    "    loss.backward()\n",
    "    optimizer.step()"
   ]
  },
  {
   "cell_type": "markdown",
   "metadata": {
    "id": "DaG5_yoSmN4U"
   },
   "source": [
    "## 1.3. Warm-up: Two-moon datasets \n",
    "Now, let's use PyTorch to solve some synthetic datasets. In previous assignment, we have to write some codes to create training batches. Again, this can also be done with PyTorch `DataLoader`. The `DataLoader` utilizes parallel workers to read and prepare batches for you, which can greatly speedup the code when your time bottleneck is on file I/O.\n",
    "\n",
    "Here, we show a simple example that can create a dataloader from numpy data:"
   ]
  },
  {
   "cell_type": "markdown",
   "metadata": {
    "id": "YcsJ2yuwmN4V"
   },
   "source": [
    "### Setup for Google Colab (Skip for Jupyter Notebook)"
   ]
  },
  {
   "cell_type": "code",
   "execution_count": null,
   "metadata": {
    "id": "vfBCiLZcmN4V"
   },
   "outputs": [],
   "source": [
    "from google.colab import drive\n",
    "drive.mount('/content/drive')"
   ]
  },
  {
   "cell_type": "code",
   "execution_count": null,
   "metadata": {
    "id": "pusGnrzAmN4Z"
   },
   "outputs": [],
   "source": [
    "# Find path to your data folder in drive and enter for \"path_to_dataset\"\n",
    "#path_to_dataset = '/content/drive/My Drive/DL_Fall_2020/Assignment_2/data'\n",
    "path_to_dataset ='C:/Users/sharm/Desktop/Niket_Documents/courses/Deep Learning/Assingments/Assingment 2/HW2/data'\n",
    "# For Jupyter notebook give path from your local PC"
   ]
  },
  {
   "cell_type": "code",
   "execution_count": null,
   "metadata": {
    "id": "ITOohGZOmN4e",
    "outputId": "f09c40d2-3799-487c-ac4e-162b543e337f"
   },
   "outputs": [
    {
     "data": {
      "image/png": "[encoded data removed]",
      "text/plain": [
       "<Figure size 432x288 with 1 Axes>"
      ]
     },
     "metadata": {
      "needs_background": "light",
      "tags": []
     },
     "output_type": "display_data"
    }
   ],
   "source": [
    "import numpy as np\n",
    "import matplotlib.pyplot as plt\n",
    "\n",
    "X_train = np.loadtxt(path_to_dataset + '/X1_train.csv', delimiter=',')\n",
    "X_test = np.loadtxt(path_to_dataset + '/X1_test.csv', delimiter=',')\n",
    "y_train = np.loadtxt(path_to_dataset + '/y1_train.csv', delimiter=',')\n",
    "y_test = np.loadtxt(path_to_dataset + '/y1_test.csv', delimiter=',')\n",
    "\n",
    "# Plot it to see why is it called two-moon dataset\n",
    "plt.scatter(X_train[:, 0], X_train[:, 1], c=y_train);"
   ]
  },
  {
   "cell_type": "markdown",
   "metadata": {
    "id": "sWjuWw22mN4k"
   },
   "source": [
    "Now, let's create a PyTorch `DataLoader`:"
   ]
  },
  {
   "cell_type": "code",
   "execution_count": null,
   "metadata": {
    "id": "yVd6KjQNmN4l"
   },
   "outputs": [],
   "source": [
    "from torch.utils.data import TensorDataset, DataLoader\n",
    "batch_size = 64 # mini-batch size\n",
    "num_workers = 4 # how many parallel workers are we gonna use for reading data\n",
    "shuffle = True # shuffle the dataset\n",
    "\n",
    "# Convert numpy array import torch tensor\n",
    "X_train = torch.FloatTensor(X_train)\n",
    "X_test = torch.FloatTensor(X_test)\n",
    "y_train = torch.LongTensor(y_train.reshape(-1, 1))\n",
    "y_test = torch.LongTensor(y_test.reshape(-1, 1))\n",
    "\n",
    "# First, create a dataset from torch tensor. A dataset define how to read data\n",
    "# and process data for creating mini-batches.\n",
    "train_dataset = TensorDataset(X_train, y_train)\n",
    "train_loader = DataLoader(train_dataset, batch_size=batch_size, \n",
    "                          num_workers=num_workers, shuffle=shuffle)"
   ]
  },
  {
   "cell_type": "code",
   "execution_count": null,
   "metadata": {
    "id": "GSE9kmZ1mN4r",
    "outputId": "3cd7e493-73be-42d3-aeba-171e3f5c0b61"
   },
   "outputs": [
    {
     "name": "stdout",
     "output_type": "stream",
     "text": [
      "torch.Size([700, 2])\n",
      "torch.Size([700, 1])\n"
     ]
    }
   ],
   "source": [
    "print(X_train.shape)\n",
    "print(y_train.shape)"
   ]
  },
  {
   "cell_type": "markdown",
   "metadata": {
    "id": "VZOXZ9nnmN4x"
   },
   "source": [
    "Below, we provide a simple example on how to train your model with this dataloader:"
   ]
  },
  {
   "cell_type": "code",
   "execution_count": null,
   "metadata": {
    "id": "__-VgewxmN4y",
    "outputId": "fc505466-3ec0-417b-e23c-1ce94e243d0e"
   },
   "outputs": [
    {
     "name": "stdout",
     "output_type": "stream",
     "text": [
      "Epcoh 0: 6.804924130439758\n",
      "Epcoh 1: 4.205340951681137\n",
      "Epcoh 2: 3.1848054230213165\n",
      "Epcoh 3: 2.9674482494592667\n",
      "Epcoh 4: 2.9060702472925186\n"
     ]
    }
   ],
   "source": [
    "epoch = 5 # an epoch means looping through all the data in the datasets\n",
    "lr = 1e-1\n",
    "\n",
    "# create a simple model that is probably not gonna work well\n",
    "model = nn.Linear(X_train.size(1), 1)\n",
    "optim = torch.optim.SGD(model.parameters(), lr=lr)\n",
    "\n",
    "for e in range(epoch):\n",
    "    loss_epoch = 0\n",
    "    # loop through train loader to get x and y\n",
    "    for x, y in train_loader:\n",
    "        optim.zero_grad()\n",
    "        y_pred = model(x)\n",
    "        # !!WARNING!!\n",
    "        # THIS IS A CLASSIFICATION TASK, SO YOU SHOULD NOT\n",
    "        # USE THIS LOSS FUNCTION. \n",
    "        loss = (y_pred - y.float()).abs().mean()\n",
    "        loss.backward()\n",
    "        optim.step()\n",
    "        loss_epoch += loss.item()\n",
    "    print(f'Epcoh {e}: {loss_epoch}')"
   ]
  },
  {
   "cell_type": "markdown",
   "metadata": {
    "id": "nxDE84vqmN43"
   },
   "source": [
    "### 1.3.1 Your Simple NN\n",
    "Now, it is time for you to implement your own model for this classification task. Your job here is to:\n",
    "1. Complete the SimpleNN class. It should be a 2- or 3-layer NN with proper non-linearity.\n",
    "2. Train your model with SGD optimizer.\n",
    "3. Tune your model a bit so you can achieve at least 80% accuracy on training set.\n",
    "Hint: you might want to look up `nn.ReLU`, `nn.Sigmoid`, `nn.BCELoss` in the [official document](https://pytorch.org/docs/stable/). You are allowed to freely pick the hyperparameters of your model.\n",
    "4. **Please note this is a binary classification problem.**"
   ]
  },
  {
   "cell_type": "code",
   "execution_count": null,
   "metadata": {
    "id": "s_JtMDBNmN44"
   },
   "outputs": [],
   "source": [
    "class SimpleNN(nn.Module):\n",
    "    \n",
    "    def __init__(self,D_in, H, D_out):\n",
    "        super().__init__()\n",
    "        ################################################################################\n",
    "        # TODO:                                                                        #\n",
    "        # Construct your small feedforward NN here.                                    #\n",
    "        ################################################################################\n",
    "        #D_in = X_train.shape[1]\n",
    "        #D_out = np.max(y_train) + 1\n",
    "        #H = 100\n",
    "        super(SimpleNN, self).__init__()\n",
    "        self.linear1 = nn.Linear(D_in, H)\n",
    "        self.linear2 = nn.Linear(H, D_out)\n",
    "        ################################################################################\n",
    "        #                                 END OF YOUR CODE                             #\n",
    "        ################################################################################\n",
    "        \n",
    "    def forward(self, x):\n",
    "        ################################################################################\n",
    "        # TODO:                                                                        #\n",
    "        # feed the input to your network, and output the predictions.                  #\n",
    "        ################################################################################\n",
    "        h_relu = self.linear1(x).clamp(min=0)\n",
    "        y_pred = self.linear2(h_relu)\n",
    "        \n",
    "        ################################################################################\n",
    "        #                                 END OF YOUR CODE                             #\n",
    "        ################################################################################"
   ]
  },
  {
   "cell_type": "code",
   "execution_count": null,
   "metadata": {
    "id": "GCOscHmMmN48",
    "outputId": "1c517175-60d3-419e-ec61-23d6a185efb7"
   },
   "outputs": [],
   "source": [
    "epoch = 10 # an epoch means looping through all the data in the datasets\n",
    "lr = 1e-1\n",
    "\n",
    "# create a simple model that is probably not gonna work well\n",
    "\n",
    "################################################################################\n",
    "# TODO:                                                                        #\n",
    "# Initialize your model and SGD optimizer here.  \n",
    "N, D_in, H, D_out = 64, 700, 100, 2\n",
    "\n",
    "# Create random Tensors to hold inputs and outputs\n",
    "x = torch.randn(N, D_in)\n",
    "y = torch.randn(N, D_out)\n",
    "\n",
    "# Construct our model by instantiating the class defined above\n",
    "model = SimpleNN(D_in, H, D_out)\n",
    "\n",
    "#\n",
    "################################################################################\n",
    "################################################################################\n",
    "#                                 END OF YOUR CODE                             #\n",
    "################################################################################\n",
    "criterion = nn.MSELoss(reduction='sum')\n",
    "optimizer = torch.optim.SGD(model.parameters(), lr=lr)\n",
    "\n",
    "\n",
    "for e in range(epoch):\n",
    "    loss_epoch = 0  # record accmulative loss for each epoch\n",
    "    ################################################################################\n",
    "    # TODO:                                                                        #\n",
    "    # Loop through the dataloader and train your model with nn.BCELoss.            #\n",
    "    ################################################################################\n",
    "    y_pred = model(x)\n",
    "    \n",
    "    loss_epoch = criterion(y_pred, y)\n",
    "    if e % 10 == 9:\n",
    "        print(f'iteration {t}: {loss.item()}')\n",
    "    optimizer.zero_grad()\n",
    "    loss.backward()\n",
    "    optimizer.step()   \n",
    "    \n",
    "    ################################################################################\n",
    "    #                                 END OF YOUR CODE                             #\n",
    "    ################################################################################"
   ]
  },
  {
   "cell_type": "code",
   "execution_count": null,
   "metadata": {
    "id": "B6PvWtAjmN5B"
   },
   "outputs": [],
   "source": [
    "# helper function for computing accuracy\n",
    "def get_acc(pred, y):\n",
    "    pred = pred.float()\n",
    "    y = y.float()\n",
    "    return (y==pred).sum().float()/y.size(0)*100."
   ]
  },
  {
   "cell_type": "markdown",
   "metadata": {
    "id": "ueRrynd3mN5G"
   },
   "source": [
    "Evaluate your accuracy:"
   ]
  },
  {
   "cell_type": "code",
   "execution_count": null,
   "metadata": {
    "id": "HS51XbyjmN5G"
   },
   "outputs": [],
   "source": [
    "y_pred = (model(X_train) > 0.5)\n",
    "train_acc = get_acc(y_pred, y_train)\n",
    "\n",
    "y_pred = (model(X_test) > 0.5)\n",
    "test_acc = get_acc(y_pred, y_test)\n",
    "print(f'Training accuracy: {train_acc}, Testing accuracy: {test_acc}')"
   ]
  },
  {
   "cell_type": "markdown",
   "metadata": {
    "id": "qhX0lH3jmN5L"
   },
   "source": [
    "# Section 2. Image Classification with CNN \n",
    "Now, we are back to the image classification problem. In this section, our goal is to, again, train models on CIFAR-10 to perform image classification. Your tasks here are to:\n",
    "1. Build and Train a simple feed-forward Neural Network (consists of only nn.Linear layer with activation function) for the classification task\n",
    "2. Build and Train a **Convolutional** Neural Network (CNN) for the classification task\n",
    "3. Try different settings for training your CNN\n",
    "4. Reproduce"
   ]
  },
  {
   "cell_type": "markdown",
   "metadata": {
    "id": "SHMqRRDzmN5M"
   },
   "source": [
    "In the following cell, we provide the code for creating a CIFAR10 dataloader. As you can see, PyTorch's `torchvision` package actually has an interface for the CIFAR10 dataset: "
   ]
  },
  {
   "cell_type": "code",
   "execution_count": null,
   "metadata": {
    "colab": {
     "base_uri": "https://localhost:8080/",
     "height": 100,
     "referenced_widgets": [
      "274c0e74340045a881b4aa8d13b1e1a2",
      "bb452709a08843919787948ab5171fc0",
      "ca16990a99cb445fbf35b516d9deb3b3",
      "40c1d5a4f9854259a906cb8b6339cda8",
      "db9eb79e6ee0485696cee9e855c1a052",
      "2d69357989f14d7db7623f72cae87875",
      "a3539104e4d14870be3ceb617099d15d",
      "0077eb2ea5f64e0e84f53f98462842b5"
     ]
    },
    "id": "9cz0ICwbmN5N",
    "outputId": "dd7a3c3e-fda3-436a-873e-7ec3d65b7cb4"
   },
   "outputs": [
    {
     "name": "stdout",
     "output_type": "stream",
     "text": [
      "Downloading https://www.cs.toronto.edu/~kriz/cifar-10-python.tar.gz to ./data/cifar-10-python.tar.gz\n"
     ]
    },
    {
     "data": {
      "application/vnd.jupyter.widget-view+json": {
       "model_id": "274c0e74340045a881b4aa8d13b1e1a2",
       "version_major": 2,
       "version_minor": 0
      },
      "text/plain": [
       "HBox(children=(FloatProgress(value=1.0, bar_style='info', max=1.0), HTML(value='')))"
      ]
     },
     "metadata": {
      "tags": []
     },
     "output_type": "display_data"
    },
    {
     "name": "stdout",
     "output_type": "stream",
     "text": [
      "Extracting ./data/cifar-10-python.tar.gz to ./data\n",
      "Files already downloaded and verified\n"
     ]
    }
   ],
   "source": [
    "import torchvision\n",
    "import torchvision.transforms as transforms\n",
    "\n",
    "# Preprocessing steps on the training/testing data. You can define your own data augmentation\n",
    "# here, and PyTorch's API will do the rest for you.\n",
    "transform_train = transforms.Compose([\n",
    "    transforms.ToTensor(),\n",
    "    transforms.Normalize((0.4914, 0.4822, 0.4465), (0.2023, 0.1994, 0.2010)),\n",
    "])\n",
    "\n",
    "transform_test = transforms.Compose([\n",
    "    transforms.ToTensor(),\n",
    "    transforms.Normalize((0.4914, 0.4822, 0.4465), (0.2023, 0.1994, 0.2010)),\n",
    "])\n",
    "\n",
    "# This will automatically download the dataset for you if it cannot find the data in root\n",
    "trainset = torchvision.datasets.CIFAR10(root='./data', train=True, download=True, transform=transform_train)\n",
    "testset = torchvision.datasets.CIFAR10(root='./data', train=False, download=True, transform=transform_test)"
   ]
  },
  {
   "cell_type": "code",
   "execution_count": null,
   "metadata": {
    "id": "5I4v9hH3mN5S"
   },
   "outputs": [],
   "source": []
  },
  {
   "cell_type": "markdown",
   "metadata": {
    "id": "jtml59LJmN5X"
   },
   "source": [
    "## 2.1 Simple NN\n",
    "Implement a simple feed-forward neural network, and train it on the CIFAR-10 training set. Here's some specific requirements:\n",
    "1. The network should only consists of `nn.Linear` layers and the activation functions of your choices (e.g. `nn.Tanh`, `nn.ReLU`, `nn.Sigmoid`, etc). \n",
    "2. Train your model with `torch.optim.SGD` with the hyperparameters you like the most. \n",
    "\n",
    "Note that the hyperparameters work in previous assignment might not work the same, as the implementations of layers could be different."
   ]
  },
  {
   "cell_type": "markdown",
   "metadata": {
    "id": "5DA8f8r1mN5X"
   },
   "source": [
    "### 2.1.1 Design and training "
   ]
  },
  {
   "cell_type": "code",
   "execution_count": 33,
   "metadata": {
    "id": "kPuGtu5LmN5Y"
   },
   "outputs": [],
   "source": [
    "import torch\n",
    "import torch.nn as nn\n",
    "import torch.nn.functional as F\n",
    "import torchvision"
   ]
  },
  {
   "cell_type": "code",
   "execution_count": 41,
   "metadata": {
    "id": "Mefs_lnlmN5d"
   },
   "outputs": [],
   "source": [
    "class SimpleNN(nn.Module):\n",
    "    \n",
    "    def __init__(self):\n",
    "        super().__init__()\n",
    "        ################################################################################\n",
    "        # TODO:                                                                        #\n",
    "        # Construct your small feedforward NN here.                                    #\n",
    "        ################################################################################\n",
    "        self.fc1 = nn.Linear(32*32*3, 1600) \n",
    "        self.fc2 = nn.Linear(1600, 800)\n",
    "        self.fc3 = nn.Linear(800, 10)\n",
    "        ################################################################################\n",
    "        #                                 END OF YOUR CODE                             #\n",
    "        ################################################################################\n",
    "        \n",
    "    def forward(self, x):\n",
    "        # note that: here, the data is of the shape (B, C, H, W)\n",
    "        # where B is the batch size, C is color channels, and H\n",
    "        # and W is height and width.\n",
    "        # To feed it into the linear layer, we need to reshape it\n",
    "        # with .view() function.\n",
    "        batch_size = x.size(0)\n",
    "        x = x.view(batch_size, -1) # reshape the data from (B, C, H, W) to (B, C*H*W)\n",
    "        ################################################################################\n",
    "        # TODO:                                                                        #\n",
    "        # Forward pass, output the prediction score.                                   #\n",
    "        ################################################################################\n",
    "        x = F.relu(self.fc1(x))\n",
    "        x = F.relu(self.fc2(x))\n",
    "        x = self.fc3(x) \n",
    "        return x\n",
    "        ################################################################################\n",
    "        #                                 END OF YOUR CODE                             #\n",
    "        ################################################################################"
   ]
  },
  {
   "cell_type": "code",
   "execution_count": 42,
   "metadata": {
    "id": "il93hQ5AmN5i"
   },
   "outputs": [],
   "source": [
    "epoch = 2\n",
    "lr = 1e-2\n",
    "n_input = 3072\n",
    "n_classes = 10\n",
    "net = SimpleNN()\n",
    "train_loader = torch.utils.data.DataLoader(trainset, batch_size=4, shuffle=True, num_workers=2)\n",
    "test_loader = torch.utils.data.DataLoader(testset, batch_size=4, shuffle=False, num_workers=2)\n",
    "criterion = nn.CrossEntropyLoss()\n",
    "optimizer = optim.SGD(net.parameters(), lr=0.001, momentum=0.9)\n",
    "################################################################################\n",
    "# TODO:                                                                        #\n",
    "# Your training code here.                                                     #\n",
    "################################################################################\n",
    "################################################################################\n",
    "#                                 END OF YOUR CODE                             #\n",
    "################################################################################\n"
   ]
  },
  {
   "cell_type": "code",
   "execution_count": 43,
   "metadata": {
    "colab": {
     "base_uri": "https://localhost:8080/",
     "height": 238
    },
    "id": "DZgetUoNURAt",
    "outputId": "471d4038-11da-4134-aad4-8a7aa1d7e4d1"
   },
   "outputs": [
    {
     "name": "stdout",
     "output_type": "stream",
     "text": [
      "[1,  2000] loss: 0.305\n",
      "[1,  4000] loss: 0.277\n",
      "[1,  6000] loss: 0.273\n",
      "[1,  8000] loss: 0.265\n",
      "[1, 10000] loss: 0.261\n",
      "[1, 12000] loss: 0.258\n",
      "[2,  2000] loss: 0.241\n",
      "[2,  4000] loss: 0.243\n",
      "[2,  6000] loss: 0.239\n",
      "[2,  8000] loss: 0.239\n",
      "[2, 10000] loss: 0.241\n",
      "[2, 12000] loss: 0.236\n",
      "Finished Training\n"
     ]
    }
   ],
   "source": [
    "for epoch in range(num_epochs):  # loop over the dataset multiple times\n",
    "\n",
    "    running_loss = 0.0\n",
    "    for i, data in enumerate(train_loader, 0):\n",
    "        # get the inputs; data is a list of [inputs, labels]\n",
    "        inputs, labels = data\n",
    "\n",
    "        # zero the parameter gradients\n",
    "        optimizer.zero_grad()\n",
    "\n",
    "        # forward + backward + optimize\n",
    "        outputs = net(inputs)\n",
    "        loss = criterion(outputs, labels)\n",
    "        loss.backward()\n",
    "        optimizer.step()\n",
    "\n",
    "        # print statistics\n",
    "        running_loss += loss.item()\n",
    "        if i % 2000 == 1999:    # print every 2000 mini-batches\n",
    "            print('[%d, %5d] loss: %.3f' %\n",
    "                  (epoch + 1, i + 1, running_loss / 12000))\n",
    "            running_loss = 0.0\n",
    "\n",
    "print('Finished Training')"
   ]
  },
  {
   "cell_type": "code",
   "execution_count": 44,
   "metadata": {
    "colab": {
     "base_uri": "https://localhost:8080/",
     "height": 34
    },
    "id": "jhZMLrnuZtJC",
    "outputId": "2f20b9c0-7a48-410e-af22-2b90a60ae17b"
   },
   "outputs": [
    {
     "name": "stdout",
     "output_type": "stream",
     "text": [
      "Accuracy of the network on the train images: 53 %\n"
     ]
    }
   ],
   "source": [
    "correct = 0\n",
    "total = 0\n",
    "with torch.no_grad():\n",
    "    for data in train_loader:\n",
    "        images, labels = data\n",
    "        outputs = net(images)\n",
    "        _, predicted = torch.max(outputs.data, 1)\n",
    "        total += labels.size(0)\n",
    "        correct += (predicted == labels).sum().item()\n",
    "\n",
    "print('Accuracy of the network on the train images: %d %%' % (\n",
    "    100 * correct / total))"
   ]
  },
  {
   "cell_type": "code",
   "execution_count": 45,
   "metadata": {
    "colab": {
     "base_uri": "https://localhost:8080/",
     "height": 34
    },
    "id": "AjTEBcRzZuNl",
    "outputId": "7fa6b731-8de3-46b6-8833-b25c397bdc66"
   },
   "outputs": [
    {
     "name": "stdout",
     "output_type": "stream",
     "text": [
      "Accuracy of the network on the test images: 48 %\n"
     ]
    }
   ],
   "source": [
    "correct = 0\n",
    "total = 0\n",
    "with torch.no_grad():\n",
    "    for data in test_loader:\n",
    "        images, labels = data\n",
    "        outputs = net(images)\n",
    "        _, predicted = torch.max(outputs.data, 1)\n",
    "        total += labels.size(0)\n",
    "        correct += (predicted == labels).sum().item()\n",
    "\n",
    "print('Accuracy of the network on the test images: %d %%' % (\n",
    "    100 * correct / total))"
   ]
  },
  {
   "cell_type": "markdown",
   "metadata": {
    "id": "R7wgo9YzmN5o"
   },
   "source": [
    "Now evaluate your model with the helper function:"
   ]
  },
  {
   "cell_type": "markdown",
   "metadata": {
    "id": "Wf2SjvvRmN5u"
   },
   "source": [
    "### 2.1.2 Evaluate NN \n",
    "Evaluate your NN. You should get an accuracy around **50%** on training set and **49%** on testing set.\n",
    "\n",
    "Training - 53%  Testing - 48%"
   ]
  },
  {
   "cell_type": "code",
   "execution_count": null,
   "metadata": {
    "id": "aZXHXwKHmN5v"
   },
   "outputs": [],
   "source": [
    "model = SimpleNN()\n",
    "train_acc = get_model_acc(model, train_loader)\n",
    "test_acc = get_model_acc(model, test_loader)\n",
    "print(f'Training accuracy: {train_acc}, Testing accuracy: {test_acc}')"
   ]
  },
  {
   "cell_type": "markdown",
   "metadata": {
    "id": "fCPo7zIwmN5z"
   },
   "source": [
    "## 2.2 Convolutional Neural Network (CNN)\n",
    "Convolutional layer has been proven to be extremely useful for vision-based task. As mentioned in the lecture, this speical layer allows the model to learn filters that capture crucial visual features. \n",
    "\n"
   ]
  },
  {
   "cell_type": "markdown",
   "metadata": {
    "id": "G8oEn317mN50"
   },
   "source": [
    "### 2.2.1 Implement and Evaluate CNN \n",
    "In this section, you will need to construct a CNN for classifying CIFAR-10 image. Specifically, you need to:\n",
    "1. build a `CNNClassifier` with `nn.Conv2d`, `nn.Maxpool2d` and activation functions that you think are appropriate. \n",
    "2. You would need to flatten the output of your convolutional networks with `view()`, and feed it into a `nn.Linear` layer to predict the class labels of the input. \n",
    "\n",
    "Once you are done with your module, train it with `optim.SGD`, and evaluate it. You should get an accuracy around **55%** on training set and **53%** on testing set.\n",
    "\n"
   ]
  },
  {
   "cell_type": "code",
   "execution_count": 46,
   "metadata": {
    "id": "pCvhva7vmN51"
   },
   "outputs": [],
   "source": [
    "import torch\n",
    "import torch.nn as nn\n",
    "import torch.nn.functional as F\n",
    "import torch.optim as optim\n"
   ]
  },
  {
   "cell_type": "code",
   "execution_count": 81,
   "metadata": {
    "id": "lAfIbDIb5ZCl"
   },
   "outputs": [],
   "source": [
    "class CNNClassifier(nn.Module):\n",
    "    \n",
    "    def __init__(self):\n",
    "        super(CNNClassifier, self).__init__()\n",
    "        ################################################################################\n",
    "        # TODO:                                                                        #\n",
    "        # Construct a CNN with 2 or 3 convolutional layers and 1 linear layer for      #\n",
    "        # outputing class prediction. You are free to pick the hyperparameters         #\n",
    "        ################################################################################\n",
    "         # conv2d(no of input channels,number of output channels, kernel size)   the input channel size of CIFAR 10 data is 3\n",
    "        self.conv_model = nn.Sequential(nn.Conv2d(3,6,5),       # (N,3,32,32) --> (N,6,28,28) in_channels=3,out_channels=6,kernel_size=5\n",
    "       \n",
    "                                        nn.ReLU(),                                                 # Relu --> Activation Function\n",
    "\n",
    "                                        nn.MaxPool2d(2,2),                    # (N,6,28,28) --> (N,6,14,14)               kernel_size=2,stride=2\n",
    "                                        nn.Conv2d(6,16,5), nn.ReLU(),                             # (N,6,14,14) --> (N,16,10,10)\n",
    "                                        nn.MaxPool2d(2,2))                                      #(N,16,10,10) --> (N,16,5,5)         kernel_size= 2,stride=2\n",
    "\n",
    "\n",
    "#Dense Layer\n",
    "        self.dense_layer = nn.Sequential(nn.Linear(400,10))          #16*5*5 = 400 as input   in_features=400,out_features=120\n",
    "                                                        #output features = 10\n",
    "\n",
    "\n",
    "        ################################################################################\n",
    "        #                                 END OF YOUR CODE                             #\n",
    "        ################################################################################\n",
    "        \n",
    "        \n",
    "    def forward(self, x):\n",
    "        ################################################################################\n",
    "        # TODO:                                                                        #\n",
    "        # Forward pass of your network. First extract feature with CNN, and predict    #\n",
    "        # class scores with linear layer. Be careful about your input/output shape.    #\n",
    "        ################################################################################\n",
    "        y = self.conv_model(x)\n",
    "        #flatten the result from Conv model\n",
    "        y = torch.flatten(y,1) # 1 --> dimension (N,16,5,5)\n",
    "        y = self.dense_layer(y)\n",
    "        return y\n",
    "    \n",
    "net = CNNClassifier()\n",
    "        ################################################################################\n",
    "        #                                 END OF YOUR CODE                             #\n",
    "        ################################################################################"
   ]
  },
  {
   "cell_type": "code",
   "execution_count": 82,
   "metadata": {
    "id": "PgpkDVocmN5_"
   },
   "outputs": [],
   "source": [
    "# You can tune these hyperparameters as you like.\n",
    "num_epochs = 10\n",
    "lr = 1e-1\n",
    "n_input = 3072\n",
    "n_classes = 10\n",
    "batch_size = 64\n",
    "num_workers = 2\n",
    "\n",
    "train_loader = torch.utils.data.DataLoader(trainset, batch_size=32, shuffle=True, num_workers=2)\n",
    "test_loader = torch.utils.data.DataLoader(testset, batch_size=32, shuffle=False, num_workers=2)\n",
    "\n",
    "################################################################################\n",
    "# TODO:                                                                        #\n",
    "# Your training code here.                                                     #\n",
    "################################################################################\n",
    "\n",
    "\n",
    "import torch.optim as optim\n",
    "\n",
    "criterion = nn.CrossEntropyLoss()\n",
    "optimizer = optim.SGD(net.parameters(), lr=0.001, momentum=0.9)\n",
    "\n",
    "\n",
    "\n",
    "################################################################################\n",
    "#                                 END OF YOUR CODE                             #\n",
    "################################################################################"
   ]
  },
  {
   "cell_type": "code",
   "execution_count": 83,
   "metadata": {
    "colab": {
     "base_uri": "https://localhost:8080/",
     "height": 34
    },
    "id": "zEeD4Ymf_DrQ",
    "outputId": "1df24e3d-f9b3-49e9-c658-c3b67272f1b2"
   },
   "outputs": [
    {
     "name": "stdout",
     "output_type": "stream",
     "text": [
      "Finished Training\n"
     ]
    }
   ],
   "source": [
    "for epoch in range(num_epochs):  # loop over the dataset multiple times\n",
    "\n",
    "    running_loss = 0.0\n",
    "    for i, data in enumerate(train_loader, 0):\n",
    "        # get the inputs; data is a list of [inputs, labels]\n",
    "        inputs, labels = data\n",
    "\n",
    "        # zero the parameter gradients\n",
    "        optimizer.zero_grad()\n",
    "\n",
    "        # forward + backward + optimize\n",
    "        outputs = net(inputs)\n",
    "        loss = criterion(outputs, labels)\n",
    "        loss.backward()\n",
    "        optimizer.step()\n",
    "\n",
    "        # print statistics\n",
    "        running_loss += loss.item()\n",
    "        if i % 2000 == 1999:    # print every 2000 mini-batches\n",
    "            print('[%d, %5d] loss: %.3f' %\n",
    "                  (epoch + 1, i + 1, running_loss / 12000))\n",
    "            running_loss = 0.0\n",
    "\n",
    "print('Finished Training')"
   ]
  },
  {
   "cell_type": "code",
   "execution_count": 84,
   "metadata": {
    "colab": {
     "base_uri": "https://localhost:8080/",
     "height": 34
    },
    "id": "R-y9MiU2Xor6",
    "outputId": "d7a3d604-1b45-412c-8b01-5d5b2c70431e"
   },
   "outputs": [
    {
     "name": "stdout",
     "output_type": "stream",
     "text": [
      "Accuracy of the network on the train images: 63 %\n"
     ]
    }
   ],
   "source": [
    "correct = 0\n",
    "total = 0\n",
    "with torch.no_grad():\n",
    "    for data in train_loader:\n",
    "        images, labels = data\n",
    "        outputs = net(images)\n",
    "        _, predicted = torch.max(outputs.data, 1)\n",
    "        total += labels.size(0)\n",
    "        correct += (predicted == labels).sum().item()\n",
    "\n",
    "print('Accuracy of the network on the train images: %d %%' % (\n",
    "    100 * correct / total))"
   ]
  },
  {
   "cell_type": "code",
   "execution_count": 85,
   "metadata": {
    "colab": {
     "base_uri": "https://localhost:8080/",
     "height": 34
    },
    "id": "Q6zglDUFXsCj",
    "outputId": "66a9543b-794b-4252-ecaa-625d7ccd0966"
   },
   "outputs": [
    {
     "name": "stdout",
     "output_type": "stream",
     "text": [
      "Accuracy of the network on the test images: 60 %\n"
     ]
    }
   ],
   "source": [
    "correct = 0\n",
    "total = 0\n",
    "with torch.no_grad():\n",
    "    for data in test_loader:\n",
    "        images, labels = data\n",
    "        outputs = net(images)\n",
    "        _, predicted = torch.max(outputs.data, 1)\n",
    "        total += labels.size(0)\n",
    "        correct += (predicted == labels).sum().item()\n",
    "\n",
    "print('Accuracy of the network on the test images: %d %%' % (\n",
    "    100 * correct / total))"
   ]
  },
  {
   "cell_type": "markdown",
   "metadata": {
    "id": "8v5MGo9emN6N"
   },
   "source": [
    "<span style=\"color:red\">**Explain your design and hyperparameter choice in three or four sentences:**</span>"
   ]
  },
  {
   "cell_type": "code",
   "execution_count": null,
   "metadata": {
    "id": "Nn3CeRT0mVqG"
   },
   "outputs": [],
   "source": [
    "We get the test accuracy as 60 % and training accuracy as 63 %\n",
    "Conv, Relu, Pool is considered one set and repeated for the next layer.Filter increase the output channels which are halved by the maxpool.\n",
    "Conv1 - Relu - Max pool - Conv2 - Relu - Max pool -- Linear Layer (). \n",
    "The dimensions of each layer are commented with the two convolution layers consists of 6 size 5 filter in first and 16 filters in the second convolution layer, a lower learning rate 1e-3 gives better accuracy.A lower batch size resuted in faster training at a lower epoch\n",
    "Repeating this architecture for many CNN layers has been known to give better accuracy.(Source: Pytorch tutorial)"
   ]
  },
  {
   "cell_type": "markdown",
   "metadata": {
    "id": "EDaE2yaVmN6O"
   },
   "source": [
    "### 2.2.2 STACK MORE LAYERS\n",
    "Now, **try at least 4 network architectures with different numbers of convolutional layers**. Train these settings with `optim.SGD`, plot the training/testing accuracy as a fuction of convolutional layers and describe what you have observed (running time, performance, etc). **Please make sure your figures are with clear legends and labels**."
   ]
  },
  {
   "cell_type": "code",
   "execution_count": null,
   "metadata": {
    "id": "0V_IuaY2mN6O"
   },
   "outputs": [],
   "source": [
    "################################################################################\n",
    "# TODO:                                                                        #\n",
    "# Your training code here.                                                     #\n",
    "################################################################################\n",
    "################################################################################\n",
    "#                                 END OF YOUR CODE                             #\n",
    "################################################################################\n",
    "# Using simular CNN architecture -() CNN- Relu - Maxpool)n - Linear layer"
   ]
  },
  {
   "cell_type": "code",
   "execution_count": null,
   "metadata": {
    "id": "txKyH7dcoFiI"
   },
   "outputs": [],
   "source": [
    "import torch\n",
    "import torch.nn as nn\n",
    "import torch.nn.functional as F"
   ]
  },
  {
   "cell_type": "code",
   "execution_count": null,
   "metadata": {
    "colab": {
     "base_uri": "https://localhost:8080/",
     "height": 100,
     "referenced_widgets": [
      "070c2d910c5444bb88990e2945dbaaec",
      "bf6aeaadb59843b5a29c7818b0f921a4",
      "241f719b7ec94f66b6496b5ae77ed850",
      "06528836c93a401cb180a02b31359524",
      "73a8b59ff76e4d7983e364fec52eccd7",
      "9137101b317a4261bfcfad2e002ce41e",
      "ea7bba3d57504e63b137aab85816b4d5",
      "9f8e647ec1644becbdc843fbc86e3380"
     ]
    },
    "id": "jU-wLD7Yg56a",
    "outputId": "56993df4-e5df-4479-a79c-2a514bc5a321"
   },
   "outputs": [
    {
     "name": "stdout",
     "output_type": "stream",
     "text": [
      "Downloading https://www.cs.toronto.edu/~kriz/cifar-10-python.tar.gz to ./data/cifar-10-python.tar.gz\n"
     ]
    },
    {
     "data": {
      "application/vnd.jupyter.widget-view+json": {
       "model_id": "070c2d910c5444bb88990e2945dbaaec",
       "version_major": 2,
       "version_minor": 0
      },
      "text/plain": [
       "HBox(children=(FloatProgress(value=1.0, bar_style='info', max=1.0), HTML(value='')))"
      ]
     },
     "metadata": {
      "tags": []
     },
     "output_type": "display_data"
    },
    {
     "name": "stdout",
     "output_type": "stream",
     "text": [
      "Extracting ./data/cifar-10-python.tar.gz to ./data\n",
      "Files already downloaded and verified\n"
     ]
    }
   ],
   "source": [
    "import torchvision\n",
    "import torchvision.transforms as transforms\n",
    "\n",
    "# Preprocessing steps on the training/testing data. You can define your own data augmentation\n",
    "# here, and PyTorch's API will do the rest for you.\n",
    "transform_train = transforms.Compose([\n",
    "    transforms.ToTensor(),\n",
    "    transforms.Normalize((0.4914, 0.4822, 0.4465), (0.2023, 0.1994, 0.2010)),\n",
    "])\n",
    "\n",
    "transform_test = transforms.Compose([\n",
    "    transforms.ToTensor(),\n",
    "    transforms.Normalize((0.4914, 0.4822, 0.4465), (0.2023, 0.1994, 0.2010)),\n",
    "])\n",
    "\n",
    "# This will automatically download the dataset for you if it cannot find the data in root\n",
    "trainset = torchvision.datasets.CIFAR10(root='./data', train=True, download=True, transform=transform_train)\n",
    "testset = torchvision.datasets.CIFAR10(root='./data', train=False, download=True, transform=transform_test)"
   ]
  },
  {
   "cell_type": "code",
   "execution_count": 18,
   "metadata": {
    "id": "wg4iAf6OBF3j"
   },
   "outputs": [],
   "source": [
    "#1 Conv Layer\n",
    "class CNNClassifier(nn.Module):\n",
    "    \n",
    "    def __init__(self):\n",
    "        super(CNNClassifier, self).__init__()\n",
    "        ################################################################################\n",
    "        # TODO:                                                                        #\n",
    "        # Construct a CNN with 2 or 3 convolutional layers and 1 linear layer for      #\n",
    "        # outputing class prediction. You are free to pick the hyperparameters         #\n",
    "        ################################################################################\n",
    "         # conv2d(no of input channels,number of output channels, kernel size)   the input channel size of CIFAR 10 data is 3\n",
    "        self.conv_model = nn.Sequential(nn.Conv2d(3,6,5),       # (N,3,32,32) --> (N,6,28,28) in_channels=3,out_channels=6,kernel_size=5\n",
    "       \n",
    "                                        nn.ReLU(),                                                 # Relu --> Activation Function\n",
    "\n",
    "                                        nn.MaxPool2d(2,2))                    # (N,6,28,28) --> (N,6,14,14)               kernel_size=2,stride=2\n",
    "                                        \n",
    "\n",
    "\n",
    "#Dense Layer\n",
    "        \n",
    "        self.dense_layer = nn.Sequential(nn.Linear(1176,10))          #6*14*14\n",
    "                                                  \n",
    "\n",
    "\n",
    "        ################################################################################\n",
    "        #                                 END OF YOUR CODE                             #\n",
    "        ################################################################################\n",
    "        \n",
    "        \n",
    "    def forward(self, x):\n",
    "        ################################################################################\n",
    "        # TODO:                                                                        #\n",
    "        # Forward pass of your network. First extract feature with CNN, and predict    #\n",
    "        # class scores with linear layer. Be careful about your input/output shape.    #\n",
    "        ################################################################################\n",
    "        y = self.conv_model(x)\n",
    "        #flatten the result from Conv model\n",
    "        y = torch.flatten(y,1) # 1 --> dimension (N,16,5,5)\n",
    "        y = self.dense_layer(y)\n",
    "        return y\n",
    "    \n",
    "net = CNNClassifier()\n",
    "        ################################################################################\n",
    "        #                                 END OF YOUR CODE                             #\n",
    "        ################################################################################"
   ]
  },
  {
   "cell_type": "code",
   "execution_count": 19,
   "metadata": {
    "id": "f7GSxtf2k91_"
   },
   "outputs": [],
   "source": [
    "# You can tune these hyperparameters as you like.\n",
    "num_epochs = 2\n",
    "lr = 1e-1\n",
    "n_input = 3072\n",
    "n_classes = 10\n",
    "batch_size = 64\n",
    "num_workers = 2\n",
    "\n",
    "train_loader = torch.utils.data.DataLoader(trainset, batch_size=4, shuffle=True, num_workers=2)\n",
    "test_loader = torch.utils.data.DataLoader(testset, batch_size=4, shuffle=False, num_workers=2)\n",
    "\n",
    "################################################################################\n",
    "# TODO:                                                                        #\n",
    "# Your training code here.                                                     #\n",
    "################################################################################\n",
    "\n",
    "\n",
    "import torch.optim as optim\n",
    "\n",
    "criterion = nn.CrossEntropyLoss()\n",
    "optimizer = optim.SGD(net.parameters(), lr=0.001, momentum=0.9)\n",
    "\n",
    "\n",
    "\n",
    "################################################################################\n",
    "#                                 END OF YOUR CODE                             #\n",
    "################################################################################"
   ]
  },
  {
   "cell_type": "code",
   "execution_count": null,
   "metadata": {
    "id": "aGZsHQOVKh2q"
   },
   "outputs": [],
   "source": [
    "for epoch in range(num_epochs):  # loop over the dataset multiple times\n",
    "\n",
    "    running_loss = 0.0\n",
    "    for i, data in enumerate(train_loader, 0):\n",
    "        # get the inputs; data is a list of [inputs, labels]\n",
    "        inputs, labels = data\n",
    "\n",
    "        # zero the parameter gradients\n",
    "        optimizer.zero_grad()\n",
    "\n",
    "        # forward + backward + optimize\n",
    "        outputs = net(inputs)\n",
    "        loss = criterion(outputs, labels)\n",
    "        loss.backward()\n",
    "        optimizer.step()\n",
    "\n",
    "        # print statistics\n",
    "        running_loss += loss.item()\n",
    "        if i % 2000 == 1999:    # print every 2000 mini-batches\n",
    "            print('[%d, %5d] loss: %.3f' %\n",
    "                  (epoch + 1, i + 1, running_loss / 12000))\n",
    "            running_loss = 0.0\n",
    "\n",
    "print('Finished Training')"
   ]
  },
  {
   "cell_type": "code",
   "execution_count": 21,
   "metadata": {
    "colab": {
     "base_uri": "https://localhost:8080/",
     "height": 34
    },
    "id": "-XAdT3-wMGhv",
    "outputId": "e68719ee-f19f-4403-b135-eab8a0bee41f"
   },
   "outputs": [
    {
     "name": "stdout",
     "output_type": "stream",
     "text": [
      "Accuracy of the network on the train images: 52 %\n"
     ]
    }
   ],
   "source": [
    "correct = 0\n",
    "total = 0\n",
    "with torch.no_grad():\n",
    "    for data in train_loader:\n",
    "        images, labels = data\n",
    "        outputs = net(images)\n",
    "        _, predicted = torch.max(outputs.data, 1)\n",
    "        total += labels.size(0)\n",
    "        correct += (predicted == labels).sum().item()\n",
    "\n",
    "print('Accuracy of the network on the train images: %d %%' % (\n",
    "    100 * correct / total))"
   ]
  },
  {
   "cell_type": "code",
   "execution_count": 22,
   "metadata": {
    "colab": {
     "base_uri": "https://localhost:8080/",
     "height": 34
    },
    "id": "fO5bj4oUMbkb",
    "outputId": "9a49c534-946c-4dce-ce09-03ed00c47b0d"
   },
   "outputs": [
    {
     "name": "stdout",
     "output_type": "stream",
     "text": [
      "Accuracy of the network on the test images: 47 %\n"
     ]
    }
   ],
   "source": [
    "correct = 0\n",
    "total = 0\n",
    "with torch.no_grad():\n",
    "    for data in test_loader:\n",
    "        images, labels = data\n",
    "        outputs = net(images)\n",
    "        _, predicted = torch.max(outputs.data, 1)\n",
    "        total += labels.size(0)\n",
    "        correct += (predicted == labels).sum().item()\n",
    "\n",
    "print('Accuracy of the network on the test images: %d %%' % (\n",
    "    100 * correct / total))"
   ]
  },
  {
   "cell_type": "code",
   "execution_count": null,
   "metadata": {
    "id": "81mZvX-wDSr9"
   },
   "outputs": [],
   "source": []
  },
  {
   "cell_type": "code",
   "execution_count": 23,
   "metadata": {
    "id": "kSZBb5RGCrRE"
   },
   "outputs": [],
   "source": [
    "#2 Conv Layer\n",
    "class CNNClassifier(nn.Module):\n",
    "    \n",
    "    def __init__(self):\n",
    "        super(CNNClassifier, self).__init__()\n",
    "        ################################################################################\n",
    "        # TODO:                                                                        #\n",
    "        # Construct a CNN with 2 or 3 convolutional layers and 1 linear layer for      #\n",
    "        # outputing class prediction. You are free to pick the hyperparameters         #\n",
    "        ################################################################################\n",
    "         # conv2d(no of input channels,number of output channels, kernel size)   the input channel size of CIFAR 10 data is 3\n",
    "        self.conv_model = nn.Sequential(nn.Conv2d(3,6,5),       # (N,3,32,32) --> (N,6,28,28) in_channels=3,out_channels=6,kernel_size=5\n",
    "       \n",
    "                                        nn.ReLU(),                                                 # Relu --> Activation Function\n",
    "\n",
    "                                        nn.MaxPool2d(2,2),                    # (N,6,28,28) --> (N,6,14,14)               kernel_size=2,stride=2\n",
    "                                        nn.Conv2d(6,16,5), nn.ReLU(),                             # (N,6,14,14) --> (N,16,10,10)\n",
    "                                        nn.MaxPool2d(2,2))                                      #(N,16,10,10) --> (N,16,5,5)         kernel_size= 2,stride=2\n",
    "\n",
    "\n",
    "#Dense Layer\n",
    "        self.dense_layer = nn.Sequential(nn.Linear(400,10))          #16*5*5 = 400 as input   in_features=400,out_features=120\n",
    "                                                         #output features = 10\n",
    "\n",
    "\n",
    "        ################################################################################\n",
    "        #                                 END OF YOUR CODE                             #\n",
    "        ################################################################################\n",
    "        \n",
    "        \n",
    "    def forward(self, x):\n",
    "        ################################################################################\n",
    "        # TODO:                                                                        #\n",
    "        # Forward pass of your network. First extract feature with CNN, and predict    #\n",
    "        # class scores with linear layer. Be careful about your input/output shape.    #\n",
    "        ################################################################################\n",
    "        y = self.conv_model(x)\n",
    "        #flatten the result from Conv model\n",
    "        y = torch.flatten(y,1) # 1 --> dimension (N,16,5,5)\n",
    "        y = self.dense_layer(y)\n",
    "        return y\n",
    "    \n",
    "net = CNNClassifier()\n",
    "        ################################################################################\n",
    "        #                                 END OF YOUR CODE                             #\n",
    "        ################################################################################"
   ]
  },
  {
   "cell_type": "code",
   "execution_count": 24,
   "metadata": {
    "id": "agISV8J7gmWP"
   },
   "outputs": [],
   "source": [
    "# You can tune these hyperparameters as you like.\n",
    "num_epochs = 2\n",
    "lr = 1e-1\n",
    "n_input = 3072\n",
    "n_classes = 10\n",
    "batch_size = 64\n",
    "num_workers = 2\n",
    "\n",
    "train_loader = torch.utils.data.DataLoader(trainset, batch_size=4, shuffle=True, num_workers=2)\n",
    "test_loader = torch.utils.data.DataLoader(testset, batch_size=4, shuffle=False, num_workers=2)\n",
    "\n",
    "################################################################################\n",
    "# TODO:                                                                        #\n",
    "# Your training code here.                                                     #\n",
    "################################################################################\n",
    "\n",
    "\n",
    "import torch.optim as optim\n",
    "\n",
    "criterion = nn.CrossEntropyLoss()\n",
    "optimizer = optim.SGD(net.parameters(), lr=0.001, momentum=0.9)\n",
    "\n",
    "\n",
    "\n",
    "################################################################################\n",
    "#                                 END OF YOUR CODE                             #\n",
    "################################################################################"
   ]
  },
  {
   "cell_type": "code",
   "execution_count": 25,
   "metadata": {
    "colab": {
     "base_uri": "https://localhost:8080/",
     "height": 238
    },
    "id": "Oi46NKxTNaYX",
    "outputId": "48146fcd-53f5-4627-a6e3-d893dc648b3e"
   },
   "outputs": [
    {
     "name": "stdout",
     "output_type": "stream",
     "text": [
      "[1,  2000] loss: 1.893\n",
      "[1,  4000] loss: 1.626\n",
      "[1,  6000] loss: 1.531\n",
      "[1,  8000] loss: 1.491\n",
      "[1, 10000] loss: 1.444\n",
      "[1, 12000] loss: 1.415\n",
      "[2,  2000] loss: 1.361\n",
      "[2,  4000] loss: 1.330\n",
      "[2,  6000] loss: 1.347\n",
      "[2,  8000] loss: 1.358\n",
      "[2, 10000] loss: 1.344\n",
      "[2, 12000] loss: 1.341\n",
      "Finished Training\n"
     ]
    }
   ],
   "source": [
    "for epoch in range(num_epochs):  # loop over the dataset multiple times\n",
    "\n",
    "    running_loss = 0.0\n",
    "    for i, data in enumerate(train_loader, 0):\n",
    "        # get the inputs; data is a list of [inputs, labels]\n",
    "        inputs, labels = data\n",
    "\n",
    "        # zero the parameter gradients\n",
    "        optimizer.zero_grad()\n",
    "\n",
    "        # forward + backward + optimize\n",
    "        outputs = net(inputs)\n",
    "        loss = criterion(outputs, labels)\n",
    "        loss.backward()\n",
    "        optimizer.step()\n",
    "\n",
    "        # print statistics\n",
    "        running_loss += loss.item()\n",
    "        if i % 2000 == 1999:    # print every 2000 mini-batches\n",
    "            print('[%d, %5d] loss: %.3f' %\n",
    "                  (epoch + 1, i + 1, running_loss / 2000))\n",
    "            running_loss = 0.0\n",
    "\n",
    "print('Finished Training')"
   ]
  },
  {
   "cell_type": "code",
   "execution_count": 26,
   "metadata": {
    "colab": {
     "base_uri": "https://localhost:8080/",
     "height": 34
    },
    "id": "HuAzzUuQWTOW",
    "outputId": "7114c5be-62d2-45a0-a088-ac6834f475c4"
   },
   "outputs": [
    {
     "name": "stdout",
     "output_type": "stream",
     "text": [
      "Accuracy of the network on the train images: 55 %\n"
     ]
    }
   ],
   "source": [
    "correct = 0\n",
    "total = 0\n",
    "with torch.no_grad():\n",
    "    for data in train_loader:\n",
    "        images, labels = data\n",
    "        outputs = net(images)\n",
    "        _, predicted = torch.max(outputs.data, 1)\n",
    "        total += labels.size(0)\n",
    "        correct += (predicted == labels).sum().item()\n",
    "\n",
    "print('Accuracy of the network on the train images: %d %%' % (\n",
    "    100 * correct / total))"
   ]
  },
  {
   "cell_type": "code",
   "execution_count": 27,
   "metadata": {
    "colab": {
     "base_uri": "https://localhost:8080/",
     "height": 34
    },
    "id": "Tz4LAiPKWWW_",
    "outputId": "3e20a581-31f8-44d9-990b-6f917133b015"
   },
   "outputs": [
    {
     "name": "stdout",
     "output_type": "stream",
     "text": [
      "Accuracy of the network on the 10000 test images: 54 %\n"
     ]
    }
   ],
   "source": [
    "correct = 0\n",
    "total = 0\n",
    "with torch.no_grad():\n",
    "    for data in test_loader:\n",
    "        images, labels = data\n",
    "        outputs = net(images)\n",
    "        _, predicted = torch.max(outputs.data, 1)\n",
    "        total += labels.size(0)\n",
    "        correct += (predicted == labels).sum().item()\n",
    "\n",
    "print('Accuracy of the network on the 10000 test images: %d %%' % (\n",
    "    100 * correct / total))"
   ]
  },
  {
   "cell_type": "code",
   "execution_count": 53,
   "metadata": {
    "id": "6GS21Kk4C1K5"
   },
   "outputs": [],
   "source": [
    "#3 Conv layer\n",
    "\n",
    "class CNNClassifier(nn.Module):\n",
    "    \n",
    "    def __init__(self):\n",
    "        super(CNNClassifier, self).__init__()\n",
    "        ################################################################################\n",
    "        # TODO:                                                                        #\n",
    "        # Construct a CNN with 2 or 3 convolutional layers and 1 linear layer for      #\n",
    "        # outputing class prediction. You are free to pick the hyperparameters         #\n",
    "        ################################################################################\n",
    "         # conv2d(no of input channels,number of output channels, kernel size)   the input channel size of CIFAR 10 data is 3\n",
    "        self.conv_model = nn.Sequential(nn.Conv2d(3,6,5),       # (N,3,32,32) --> (N,6,28,28) in_channels=3,out_channels=6,kernel_size=5\n",
    "       \n",
    "                                        nn.ReLU(),                                                 # Relu --> Activation Function\n",
    "\n",
    "                                        nn.MaxPool2d(2,2),                    # (N,6,28,28) --> (N,6,14,14)               kernel_size=2,stride=2\n",
    "                                        nn.Conv2d(6,12,5), nn.ReLU(),                             # (N,6,14,14) --> (N,12,10,10)\n",
    "                                                                             \n",
    "                                        nn.Conv2d(12,24,5), nn.ReLU(),         #(N,12,10,10) --> (N,24,6,6)\n",
    "                                        nn.MaxPool2d(2,2))                     #(N,24,3,3)\n",
    "\n",
    "\n",
    "#Dense Layer\n",
    "        self.dense_layer = nn.Sequential(nn.Linear(216,10))          #24*3*3 =  as input   \n",
    "                                         \n",
    "\n",
    "\n",
    "        ################################################################################\n",
    "        #                                 END OF YOUR CODE                             #\n",
    "        ################################################################################\n",
    "        \n",
    "        \n",
    "    def forward(self, x):\n",
    "        ################################################################################\n",
    "        # TODO:                                                                        #\n",
    "        # Forward pass of your network. First extract feature with CNN, and predict    #\n",
    "        # class scores with linear layer. Be careful about your input/output shape.    #\n",
    "        ################################################################################\n",
    "        y = self.conv_model(x)\n",
    "        #flatten the result from Conv model\n",
    "        y = torch.flatten(y,1) \n",
    "        y = self.dense_layer(y)\n",
    "        return y\n",
    "    \n",
    "net = CNNClassifier()\n",
    "        ################################################################################\n",
    "        #                                 END OF YOUR CODE                             #\n",
    "        ################################################################################"
   ]
  },
  {
   "cell_type": "code",
   "execution_count": 65,
   "metadata": {
    "id": "h8L2jEjt-D33"
   },
   "outputs": [],
   "source": [
    "# You can tune these hyperparameters as you like.\n",
    "num_epochs = 10\n",
    "lr = 1e-1\n",
    "n_input = 3072\n",
    "n_classes = 10\n",
    "batch_size = 64\n",
    "num_workers = 2\n",
    "\n",
    "train_loader = torch.utils.data.DataLoader(trainset, batch_size=4, shuffle=True, num_workers=2)\n",
    "test_loader = torch.utils.data.DataLoader(testset, batch_size=4, shuffle=False, num_workers=2)\n",
    "\n",
    "################################################################################\n",
    "# TODO:                                                                        #\n",
    "# Your training code here.                                                     #\n",
    "################################################################################\n",
    "\n",
    "\n",
    "import torch.optim as optim\n",
    "\n",
    "criterion = nn.CrossEntropyLoss()\n",
    "optimizer = optim.SGD(net.parameters(), lr=0.001, momentum=0.9)\n",
    "\n",
    "\n",
    "\n",
    "################################################################################\n",
    "#                                 END OF YOUR CODE                             #\n",
    "################################################################################"
   ]
  },
  {
   "cell_type": "code",
   "execution_count": 66,
   "metadata": {
    "colab": {
     "base_uri": "https://localhost:8080/",
     "height": 1000
    },
    "id": "Cpspbr8r5nPH",
    "outputId": "6d0bc0ec-bc59-4e46-a0a5-af2250d888c5"
   },
   "outputs": [
    {
     "name": "stdout",
     "output_type": "stream",
     "text": [
      "[1,  2000] loss: 1.876\n",
      "[1,  4000] loss: 1.638\n",
      "[1,  6000] loss: 1.522\n",
      "[1,  8000] loss: 1.472\n",
      "[1, 10000] loss: 1.472\n",
      "[1, 12000] loss: 1.448\n",
      "[2,  2000] loss: 1.389\n",
      "[2,  4000] loss: 1.369\n",
      "[2,  6000] loss: 1.349\n",
      "[2,  8000] loss: 1.373\n",
      "[2, 10000] loss: 1.367\n",
      "[2, 12000] loss: 1.337\n",
      "[3,  2000] loss: 1.284\n",
      "[3,  4000] loss: 1.298\n",
      "[3,  6000] loss: 1.307\n",
      "[3,  8000] loss: 1.313\n",
      "[3, 10000] loss: 1.313\n",
      "[3, 12000] loss: 1.289\n",
      "[4,  2000] loss: 1.267\n",
      "[4,  4000] loss: 1.241\n",
      "[4,  6000] loss: 1.261\n",
      "[4,  8000] loss: 1.291\n",
      "[4, 10000] loss: 1.274\n",
      "[4, 12000] loss: 1.263\n",
      "[5,  2000] loss: 1.234\n",
      "[5,  4000] loss: 1.245\n",
      "[5,  6000] loss: 1.271\n",
      "[5,  8000] loss: 1.273\n",
      "[5, 10000] loss: 1.256\n",
      "[5, 12000] loss: 1.256\n",
      "[6,  2000] loss: 1.213\n",
      "[6,  4000] loss: 1.220\n",
      "[6,  6000] loss: 1.226\n",
      "[6,  8000] loss: 1.274\n",
      "[6, 10000] loss: 1.245\n",
      "[6, 12000] loss: 1.243\n",
      "[7,  2000] loss: 1.201\n",
      "[7,  4000] loss: 1.244\n",
      "[7,  6000] loss: 1.239\n",
      "[7,  8000] loss: 1.245\n",
      "[7, 10000] loss: 1.220\n",
      "[7, 12000] loss: 1.238\n",
      "[8,  2000] loss: 1.218\n",
      "[8,  4000] loss: 1.204\n",
      "[8,  6000] loss: 1.244\n",
      "[8,  8000] loss: 1.239\n",
      "[8, 10000] loss: 1.223\n",
      "[8, 12000] loss: 1.245\n",
      "[9,  2000] loss: 1.182\n",
      "[9,  4000] loss: 1.224\n",
      "[9,  6000] loss: 1.210\n",
      "[9,  8000] loss: 1.225\n",
      "[9, 10000] loss: 1.221\n",
      "[9, 12000] loss: 1.267\n",
      "[10,  2000] loss: 1.179\n",
      "[10,  4000] loss: 1.219\n",
      "[10,  6000] loss: 1.206\n",
      "[10,  8000] loss: 1.211\n",
      "[10, 10000] loss: 1.230\n",
      "[10, 12000] loss: 1.220\n",
      "Finished Training\n"
     ]
    }
   ],
   "source": [
    "for epoch in range(num_epochs):  # loop over the dataset multiple times\n",
    "\n",
    "    running_loss = 0.0\n",
    "    for i, data in enumerate(train_loader, 0):\n",
    "        # get the inputs; data is a list of [inputs, labels]\n",
    "        inputs, labels = data\n",
    "\n",
    "        # zero the parameter gradients\n",
    "        optimizer.zero_grad()\n",
    "\n",
    "        # forward + backward + optimize\n",
    "        outputs = net(inputs)\n",
    "        loss = criterion(outputs, labels)\n",
    "        loss.backward()\n",
    "        optimizer.step()\n",
    "\n",
    "        # print statistics\n",
    "        running_loss += loss.item()\n",
    "        if i % 2000 == 1999:    # print every 2000 mini-batches\n",
    "            print('[%d, %5d] loss: %.3f' %\n",
    "                  (epoch + 1, i + 1, running_loss / 2000))\n",
    "            running_loss = 0.0\n",
    "\n",
    "print('Finished Training')"
   ]
  },
  {
   "cell_type": "code",
   "execution_count": 67,
   "metadata": {
    "colab": {
     "base_uri": "https://localhost:8080/",
     "height": 34
    },
    "id": "1bgj3NYG9q30",
    "outputId": "15c43e0a-8e94-4374-fe60-b2571464e232"
   },
   "outputs": [
    {
     "name": "stdout",
     "output_type": "stream",
     "text": [
      "Accuracy of the network on the train images: 60 %\n"
     ]
    }
   ],
   "source": [
    "correct = 0\n",
    "total = 0\n",
    "with torch.no_grad():\n",
    "    for data in train_loader:\n",
    "        images, labels = data\n",
    "        outputs = net(images)\n",
    "        _, predicted = torch.max(outputs.data, 1)\n",
    "        total += labels.size(0)\n",
    "        correct += (predicted == labels).sum().item()\n",
    "\n",
    "print('Accuracy of the network on the train images: %d %%' % (\n",
    "    100 * correct / total))"
   ]
  },
  {
   "cell_type": "code",
   "execution_count": 68,
   "metadata": {
    "colab": {
     "base_uri": "https://localhost:8080/",
     "height": 34
    },
    "id": "gBHMDdtWKWsb",
    "outputId": "1f16a498-ccaf-46af-8378-ec51e7ad3921"
   },
   "outputs": [
    {
     "name": "stdout",
     "output_type": "stream",
     "text": [
      "Accuracy of the network on the test images: 56 %\n"
     ]
    }
   ],
   "source": [
    "correct = 0\n",
    "total = 0\n",
    "with torch.no_grad():\n",
    "    for data in test_loader:\n",
    "        images, labels = data\n",
    "        outputs = net(images)\n",
    "        _, predicted = torch.max(outputs.data, 1)\n",
    "        total += labels.size(0)\n",
    "        correct += (predicted == labels).sum().item()\n",
    "\n",
    "print('Accuracy of the network on the test images: %d %%' % (\n",
    "    100 * correct / total))"
   ]
  },
  {
   "cell_type": "code",
   "execution_count": 74,
   "metadata": {
    "id": "38N3033EC6FV"
   },
   "outputs": [],
   "source": [
    "# 4 Conv Layer\n",
    "\n",
    "\n",
    "class CNNClassifier(nn.Module):\n",
    "    \n",
    "    def __init__(self):\n",
    "        super(CNNClassifier, self).__init__()\n",
    "        ################################################################################\n",
    "        # TODO:                                                                        #\n",
    "        # Construct a CNN with 2 or 3 convolutional layers and 1 linear layer for      #\n",
    "        # outputing class prediction. You are free to pick the hyperparameters         #\n",
    "        ################################################################################\n",
    "         # conv2d(no of input channels,number of output channels, kernel size)   the input channel size of CIFAR 10 data is 3\n",
    "        self.conv_model = nn.Sequential(nn.Conv2d(3,6,5),       # (N,3,32,32) --> (N,6,28,28) in_channels=3,out_channels=6,kernel_size=5\n",
    "                                               nn.ReLU(),                                                 # Relu --> Activation Function\n",
    "                                     \n",
    "                                        nn.Conv2d(6,12,5), nn.ReLU(),                             # (N,6,28,28) --> (N,12,24,24)\n",
    "                                        nn.MaxPool2d(2,2),                                         # (N,12,24,24) --> (N,12,12,12)\n",
    "                                                                             \n",
    "                                        nn.Conv2d(12,24,5), nn.ReLU(),         #(N,12,12,12) --> (N,24,8,8)\n",
    "                                        nn.Conv2d(24,48,5), nn.ReLU(),         #  (N,24,8,8)  --> (N,48,4,4) \n",
    "                                        nn.MaxPool2d(2,2))                     #(N,48,4,4) --> (N,48,2,2)\n",
    "\n",
    "\n",
    "#Dense Layer\n",
    "        self.dense_layer = nn.Sequential(nn.Linear(192,10))          #24*3*3 =  as input   \n",
    "                                         \n",
    "\n",
    "\n",
    "        ################################################################################\n",
    "        #                                 END OF YOUR CODE                             #\n",
    "        ################################################################################\n",
    "        \n",
    "        \n",
    "    def forward(self, x):\n",
    "        ################################################################################\n",
    "        # TODO:                                                                        #\n",
    "        # Forward pass of your network. First extract feature with CNN, and predict    #\n",
    "        # class scores with linear layer. Be careful about your input/output shape.    #\n",
    "        ################################################################################\n",
    "        y = self.conv_model(x)\n",
    "        #flatten the result from Conv model\n",
    "        y = torch.flatten(y,1) \n",
    "        y = self.dense_layer(y)\n",
    "        return y\n",
    "    \n",
    "net = CNNClassifier()\n",
    "        ################################################################################\n",
    "        #                                 END OF YOUR CODE                             #\n",
    "        ################################################################################"
   ]
  },
  {
   "cell_type": "code",
   "execution_count": 75,
   "metadata": {
    "id": "OY5WnDsu9-HB"
   },
   "outputs": [],
   "source": [
    "# You can tune these hyperparameters as you like.\n",
    "num_epochs = 10\n",
    "lr = 1e-1\n",
    "n_input = 3072\n",
    "n_classes = 10\n",
    "batch_size = 64\n",
    "num_workers = 2\n",
    "\n",
    "train_loader = torch.utils.data.DataLoader(trainset, batch_size=4, shuffle=True, num_workers=2)\n",
    "test_loader = torch.utils.data.DataLoader(testset, batch_size=4, shuffle=False, num_workers=2)\n",
    "\n",
    "################################################################################\n",
    "# TODO:                                                                        #\n",
    "# Your training code here.                                                     #\n",
    "################################################################################\n",
    "\n",
    "\n",
    "import torch.optim as optim\n",
    "\n",
    "criterion = nn.CrossEntropyLoss()\n",
    "optimizer = optim.SGD(net.parameters(), lr=0.001, momentum=0.9)\n",
    "\n",
    "\n",
    "\n",
    "################################################################################\n",
    "#                                 END OF YOUR CODE                             #\n",
    "################################################################################"
   ]
  },
  {
   "cell_type": "code",
   "execution_count": 76,
   "metadata": {
    "colab": {
     "base_uri": "https://localhost:8080/",
     "height": 1000
    },
    "id": "6k5-EfiXLTgB",
    "outputId": "307b63df-fcb0-4462-e25d-2d8c52db6974"
   },
   "outputs": [
    {
     "name": "stdout",
     "output_type": "stream",
     "text": [
      "[1,  2000] loss: 2.062\n",
      "[1,  4000] loss: 1.766\n",
      "[1,  6000] loss: 1.664\n",
      "[1,  8000] loss: 1.565\n",
      "[1, 10000] loss: 1.517\n",
      "[1, 12000] loss: 1.470\n",
      "[2,  2000] loss: 1.395\n",
      "[2,  4000] loss: 1.357\n",
      "[2,  6000] loss: 1.346\n",
      "[2,  8000] loss: 1.326\n",
      "[2, 10000] loss: 1.307\n",
      "[2, 12000] loss: 1.302\n",
      "[3,  2000] loss: 1.203\n",
      "[3,  4000] loss: 1.238\n",
      "[3,  6000] loss: 1.250\n",
      "[3,  8000] loss: 1.200\n",
      "[3, 10000] loss: 1.218\n",
      "[3, 12000] loss: 1.208\n",
      "[4,  2000] loss: 1.152\n",
      "[4,  4000] loss: 1.129\n",
      "[4,  6000] loss: 1.156\n",
      "[4,  8000] loss: 1.167\n",
      "[4, 10000] loss: 1.161\n",
      "[4, 12000] loss: 1.147\n",
      "[5,  2000] loss: 1.075\n",
      "[5,  4000] loss: 1.111\n",
      "[5,  6000] loss: 1.129\n",
      "[5,  8000] loss: 1.123\n",
      "[5, 10000] loss: 1.134\n",
      "[5, 12000] loss: 1.115\n",
      "[6,  2000] loss: 1.043\n",
      "[6,  4000] loss: 1.086\n",
      "[6,  6000] loss: 1.094\n",
      "[6,  8000] loss: 1.069\n",
      "[6, 10000] loss: 1.102\n",
      "[6, 12000] loss: 1.093\n",
      "[7,  2000] loss: 1.024\n",
      "[7,  4000] loss: 1.047\n",
      "[7,  6000] loss: 1.055\n",
      "[7,  8000] loss: 1.066\n",
      "[7, 10000] loss: 1.088\n",
      "[7, 12000] loss: 1.072\n",
      "[8,  2000] loss: 1.008\n",
      "[8,  4000] loss: 1.045\n",
      "[8,  6000] loss: 1.047\n",
      "[8,  8000] loss: 1.040\n",
      "[8, 10000] loss: 1.065\n",
      "[8, 12000] loss: 1.076\n",
      "[9,  2000] loss: 1.006\n",
      "[9,  4000] loss: 1.022\n",
      "[9,  6000] loss: 1.034\n",
      "[9,  8000] loss: 1.034\n",
      "[9, 10000] loss: 1.052\n",
      "[9, 12000] loss: 1.079\n",
      "[10,  2000] loss: 1.012\n",
      "[10,  4000] loss: 1.002\n",
      "[10,  6000] loss: 1.028\n",
      "[10,  8000] loss: 1.039\n",
      "[10, 10000] loss: 1.052\n",
      "[10, 12000] loss: 1.056\n",
      "Finished Training\n"
     ]
    }
   ],
   "source": [
    "for epoch in range(num_epochs):  # loop over the dataset multiple times\n",
    "\n",
    "    running_loss = 0.0\n",
    "    for i, data in enumerate(train_loader, 0):\n",
    "        # get the inputs; data is a list of [inputs, labels]\n",
    "        inputs, labels = data\n",
    "\n",
    "        # zero the parameter gradients\n",
    "        optimizer.zero_grad()\n",
    "\n",
    "        # forward + backward + optimize\n",
    "        outputs = net(inputs)\n",
    "        loss = criterion(outputs, labels)\n",
    "        loss.backward()\n",
    "        optimizer.step()\n",
    "\n",
    "        # print statistics\n",
    "        running_loss += loss.item()\n",
    "        if i % 2000 == 1999:    # print every 2000 mini-batches\n",
    "            print('[%d, %5d] loss: %.3f' %\n",
    "                  (epoch + 1, i + 1, running_loss / 2000))\n",
    "            running_loss = 0.0\n",
    "\n",
    "print('Finished Training')"
   ]
  },
  {
   "cell_type": "code",
   "execution_count": 77,
   "metadata": {
    "colab": {
     "base_uri": "https://localhost:8080/",
     "height": 34
    },
    "id": "E1-OBG9hU4_U",
    "outputId": "4146001d-c13f-400a-e308-4236cc4eb1af"
   },
   "outputs": [
    {
     "name": "stdout",
     "output_type": "stream",
     "text": [
      "Accuracy of the network on the train images: 61 %\n"
     ]
    }
   ],
   "source": [
    "correct = 0\n",
    "total = 0\n",
    "with torch.no_grad():\n",
    "    for data in train_loader:\n",
    "        images, labels = data\n",
    "        outputs = net(images)\n",
    "        _, predicted = torch.max(outputs.data, 1)\n",
    "        total += labels.size(0)\n",
    "        correct += (predicted == labels).sum().item()\n",
    "\n",
    "print('Accuracy of the network on the train images: %d %%' % (\n",
    "    100 * correct / total))"
   ]
  },
  {
   "cell_type": "code",
   "execution_count": 78,
   "metadata": {
    "colab": {
     "base_uri": "https://localhost:8080/",
     "height": 34
    },
    "id": "gNQqaeVDaIh9",
    "outputId": "72d09eaf-1eca-4426-efdc-9683b8846f69"
   },
   "outputs": [
    {
     "name": "stdout",
     "output_type": "stream",
     "text": [
      "Accuracy of the network on the test images: 56 %\n"
     ]
    }
   ],
   "source": [
    "correct = 0\n",
    "total = 0\n",
    "with torch.no_grad():\n",
    "    for data in test_loader:\n",
    "        images, labels = data\n",
    "        outputs = net(images)\n",
    "        _, predicted = torch.max(outputs.data, 1)\n",
    "        total += labels.size(0)\n",
    "        correct += (predicted == labels).sum().item()\n",
    "\n",
    "print('Accuracy of the network on the test images: %d %%' % (\n",
    "    100 * correct / total))"
   ]
  },
  {
   "cell_type": "code",
   "execution_count": 80,
   "metadata": {
    "colab": {
     "base_uri": "https://localhost:8080/",
     "height": 296
    },
    "id": "-6AdtbSFbyIV",
    "outputId": "814144d9-931f-414f-8e61-94c48d5eedcd"
   },
   "outputs": [
    {
     "data": {
      "text/plain": [
       "<matplotlib.legend.Legend at 0x7fb03da706d8>"
      ]
     },
     "execution_count": 80,
     "metadata": {
      "tags": []
     },
     "output_type": "execute_result"
    },
    {
     "data": {
      "image/png": "[encoded data removed]",
      "text/plain": [
       "<Figure size 432x288 with 1 Axes>"
      ]
     },
     "metadata": {
      "needs_background": "light",
      "tags": []
     },
     "output_type": "display_data"
    }
   ],
   "source": [
    "import matplotlib.pyplot as plt \n",
    "n_layer = [1, 2, 3, 4]   #Number of CNN layers\n",
    "acc_trg = [52,55,60,61]\n",
    "\n",
    "acc_test = [47,54,56,56]\n",
    "\n",
    "plt.plot(n_layer,acc_trg)\n",
    "plt.plot(n_layer,acc_test)\n",
    "\n",
    "plt.xlabel('Number of CNN layers')\n",
    "plt.ylabel('Accuracy(%)')\n",
    "plt.legend(['Training Accuracy', 'Testing Accuracy'], loc='upper left')"
   ]
  },
  {
   "cell_type": "markdown",
   "metadata": {
    "id": "190187gimN6T"
   },
   "source": [
    "<span style=\"color:red\">****</span>\n",
    "Stacking layers after acertain point leads to overfitting without regularization like drop out.The test accuracy increases with each layers but the difference between test and train acccuracy starts increasing with each layer due to overfitting without regularization.Also running time increases with each layer"
   ]
  },
  {
   "cell_type": "markdown",
   "metadata": {
    "id": "eVFyvGewmN6T"
   },
   "source": [
    "### 2.2.3 Optimizer? Optimizer! \n",
    "So far, we only use SGD as our optimizer. Now, pick two other optimizers, train your favorite CNN models, and compare the performance you get. What did you see?"
   ]
  },
  {
   "cell_type": "code",
   "execution_count": null,
   "metadata": {
    "id": "zvM_VxulmN6T"
   },
   "outputs": [],
   "source": [
    "################################################################################\n",
    "# TODO:                                                                        #\n",
    "# Your training code here.                                                     #\n",
    "################################################################################\n",
    "################################################################################\n",
    "#                                 END OF YOUR CODE                             #\n",
    "################################################################################"
   ]
  },
  {
   "cell_type": "code",
   "execution_count": 69,
   "metadata": {
    "id": "O5eyc0uUV8NG"
   },
   "outputs": [],
   "source": [
    "#2 Conv Layer\n",
    "class CNNClassifier(nn.Module):\n",
    "    \n",
    "    def __init__(self):\n",
    "        super(CNNClassifier, self).__init__()\n",
    "        ################################################################################\n",
    "        # TODO:                                                                        #\n",
    "        # Construct a CNN with 2 or 3 convolutional layers and 1 linear layer for      #\n",
    "        # outputing class prediction. You are free to pick the hyperparameters         #\n",
    "        ################################################################################\n",
    "         # conv2d(no of input channels,number of output channels, kernel size)   the input channel size of CIFAR 10 data is 3\n",
    "        self.conv_model = nn.Sequential(nn.Conv2d(3,6,5),       # (N,3,32,32) --> (N,6,28,28) in_channels=3,out_channels=6,kernel_size=5\n",
    "       \n",
    "                                        nn.ReLU(),                                                 # Relu --> Activation Function\n",
    "\n",
    "                                        nn.MaxPool2d(2,2),                    # (N,6,28,28) --> (N,6,14,14)               kernel_size=2,stride=2\n",
    "                                        nn.Conv2d(6,16,5), nn.ReLU(),                             # (N,6,14,14) --> (N,16,10,10)\n",
    "                                        nn.MaxPool2d(2,2))                                      #(N,16,10,10) --> (N,16,5,5)         kernel_size= 2,stride=2\n",
    "\n",
    "\n",
    "#Dense Layer\n",
    "        self.dense_layer = nn.Sequential(nn.Linear(400,10))          #16*5*5 = 400 as input   in_features=400,out_features=120\n",
    "                                         #nn.ReLU(),\n",
    "                                         #nn.Linear(120,84),                       #Dense Layer 1: 120 Neurons\n",
    "                                         #nn.ReLU(),\n",
    "                                         #nn.Linear(84,10))                   #output features = 10\n",
    "\n",
    "\n",
    "        ################################################################################\n",
    "        #                                 END OF YOUR CODE                             #\n",
    "        ################################################################################\n",
    "        \n",
    "        \n",
    "    def forward(self, x):\n",
    "        ################################################################################\n",
    "        # TODO:                                                                        #\n",
    "        # Forward pass of your network. First extract feature with CNN, and predict    #\n",
    "        # class scores with linear layer. Be careful about your input/output shape.    #\n",
    "        ################################################################################\n",
    "        y = self.conv_model(x)\n",
    "        #flatten the result from Conv model\n",
    "        y = torch.flatten(y,1) # 1 --> dimension (N,16,5,5)\n",
    "        y = self.dense_layer(y)\n",
    "        return y\n",
    "    \n",
    "net = CNNClassifier()\n",
    "        ################################################################################\n",
    "        #                                 END OF YOUR CODE                             #\n",
    "        ################################################################################"
   ]
  },
  {
   "cell_type": "code",
   "execution_count": 70,
   "metadata": {
    "id": "4R09hRXbSVE8"
   },
   "outputs": [],
   "source": [
    "num_epochs = 20\n",
    "lr = 1e-1\n",
    "n_input = 3072\n",
    "n_classes = 10\n",
    "batch_size = 64\n",
    "num_workers = 2\n",
    "\n",
    "train_loader = torch.utils.data.DataLoader(trainset, batch_size=32, shuffle=True, num_workers=2)\n",
    "test_loader = torch.utils.data.DataLoader(testset, batch_size=32, shuffle=False, num_workers=2)\n",
    "\n",
    "################################################################################\n",
    "# TODO:                                                                        #\n",
    "# Your training code here.                                                     #\n",
    "################################################################################\n",
    "\n",
    "\n"
   ]
  },
  {
   "cell_type": "code",
   "execution_count": null,
   "metadata": {
    "id": "ssr4JiNiWTat"
   },
   "outputs": [],
   "source": [
    "#Adam optimizer\n",
    "import torch.optim as optim\n",
    "\n",
    "criterion = nn.CrossEntropyLoss()\n",
    "optimizer = optim.Adam(net.parameters(), lr=0.0001)\n"
   ]
  },
  {
   "cell_type": "code",
   "execution_count": null,
   "metadata": {
    "colab": {
     "base_uri": "https://localhost:8080/",
     "height": 34
    },
    "id": "AlQxvibSrfai",
    "outputId": "be2be782-e975-4e66-e088-9480a048465e"
   },
   "outputs": [
    {
     "name": "stdout",
     "output_type": "stream",
     "text": [
      "Finished Training\n"
     ]
    }
   ],
   "source": [
    "for epoch in range(num_epochs):  # loop over the dataset multiple times\n",
    "\n",
    "    running_loss = 0.0\n",
    "    for i, data in enumerate(train_loader, 0):\n",
    "        # get the inputs; data is a list of [inputs, labels]\n",
    "        inputs, labels = data\n",
    "\n",
    "        # zero the parameter gradients\n",
    "        optimizer.zero_grad()\n",
    "\n",
    "        # forward + backward + optimize\n",
    "        outputs = net(inputs)\n",
    "        loss = criterion(outputs, labels)\n",
    "        loss.backward()\n",
    "        optimizer.step()\n",
    "\n",
    "        # print statistics\n",
    "        running_loss += loss.item()\n",
    "        if i % 2000 == 1999:    # print every 2000 mini-batches\n",
    "            print('[%d, %5d] loss: %.3f' %\n",
    "                  (epoch + 1, i + 1, running_loss / 2000))\n",
    "            running_loss = 0.0\n",
    "\n",
    "print('Finished Training')"
   ]
  },
  {
   "cell_type": "code",
   "execution_count": null,
   "metadata": {
    "colab": {
     "base_uri": "https://localhost:8080/",
     "height": 34
    },
    "id": "MpASl4F8rfxf",
    "outputId": "efe7a150-c9d2-46b3-d6c4-8d14bfb3629f"
   },
   "outputs": [
    {
     "name": "stdout",
     "output_type": "stream",
     "text": [
      "Accuracy of the network on the train images: 58 %\n"
     ]
    }
   ],
   "source": [
    "correct = 0\n",
    "total = 0\n",
    "with torch.no_grad():\n",
    "    for data in train_loader:\n",
    "        images, labels = data\n",
    "        outputs = net(images)\n",
    "        _, predicted = torch.max(outputs.data, 1)\n",
    "        total += labels.size(0)\n",
    "        correct += (predicted == labels).sum().item()\n",
    "\n",
    "print('Accuracy of the network on the train images: %d %%' % (\n",
    "    100 * correct / total))"
   ]
  },
  {
   "cell_type": "code",
   "execution_count": null,
   "metadata": {
    "colab": {
     "base_uri": "https://localhost:8080/",
     "height": 34
    },
    "id": "JURjT7e2rf16",
    "outputId": "9bf735c0-d309-419a-dc31-50c625e0ec12"
   },
   "outputs": [
    {
     "name": "stdout",
     "output_type": "stream",
     "text": [
      "Accuracy of the network on the test images: 56 %\n"
     ]
    }
   ],
   "source": [
    "correct = 0\n",
    "total = 0\n",
    "with torch.no_grad():\n",
    "    for data in test_loader:\n",
    "        images, labels = data\n",
    "        outputs = net(images)\n",
    "        _, predicted = torch.max(outputs.data, 1)\n",
    "        total += labels.size(0)\n",
    "        correct += (predicted == labels).sum().item()\n",
    "\n",
    "print('Accuracy of the network on the test images: %d %%' % (\n",
    "    100 * correct / total))"
   ]
  },
  {
   "cell_type": "code",
   "execution_count": null,
   "metadata": {
    "id": "msYouKOYWUop"
   },
   "outputs": [],
   "source": [
    "#RMSprop optimizer\n",
    "optimizer = optim.RMSprop(net.parameters(), lr=0.001)"
   ]
  },
  {
   "cell_type": "code",
   "execution_count": null,
   "metadata": {
    "colab": {
     "base_uri": "https://localhost:8080/",
     "height": 34
    },
    "id": "JCNl9tf6Je_B",
    "outputId": "04bf8de6-a487-45f3-b768-1545d795eaab"
   },
   "outputs": [
    {
     "name": "stdout",
     "output_type": "stream",
     "text": [
      "Finished Training\n"
     ]
    }
   ],
   "source": [
    "for epoch in range(num_epochs):  # loop over the dataset multiple times\n",
    "\n",
    "    running_loss = 0.0\n",
    "    for i, data in enumerate(train_loader, 0):\n",
    "        # get the inputs; data is a list of [inputs, labels]\n",
    "        inputs, labels = data\n",
    "\n",
    "        # zero the parameter gradients\n",
    "        optimizer.zero_grad()\n",
    "\n",
    "        # forward + backward + optimize\n",
    "        outputs = net(inputs)\n",
    "        loss = criterion(outputs, labels)\n",
    "        loss.backward()\n",
    "        optimizer.step()\n",
    "\n",
    "        # print statistics\n",
    "        running_loss += loss.item()\n",
    "        if i % 2000 == 1999:    # print every 2000 mini-batches\n",
    "            print('[%d, %5d] loss: %.3f' %\n",
    "                  (epoch + 1, i + 1, running_loss / 2000))\n",
    "            running_loss = 0.0\n",
    "\n",
    "print('Finished Training')"
   ]
  },
  {
   "cell_type": "code",
   "execution_count": null,
   "metadata": {
    "colab": {
     "base_uri": "https://localhost:8080/",
     "height": 34
    },
    "id": "oCbuy9ReJw3J",
    "outputId": "261872ba-f847-434f-8d37-a6527b68f0c6"
   },
   "outputs": [
    {
     "name": "stdout",
     "output_type": "stream",
     "text": [
      "Accuracy of the network on the train images: 65 %\n"
     ]
    }
   ],
   "source": [
    "correct = 0\n",
    "total = 0\n",
    "with torch.no_grad():\n",
    "    for data in train_loader:\n",
    "        images, labels = data\n",
    "        outputs = net(images)\n",
    "        _, predicted = torch.max(outputs.data, 1)\n",
    "        total += labels.size(0)\n",
    "        correct += (predicted == labels).sum().item()\n",
    "\n",
    "print('Accuracy of the network on the train images: %d %%' % (\n",
    "    100 * correct / total))"
   ]
  },
  {
   "cell_type": "code",
   "execution_count": null,
   "metadata": {
    "colab": {
     "base_uri": "https://localhost:8080/",
     "height": 34
    },
    "id": "ZfPACAaKM1P5",
    "outputId": "67247455-8777-418b-d9c1-9a1fd9eb0f89"
   },
   "outputs": [
    {
     "name": "stdout",
     "output_type": "stream",
     "text": [
      "Accuracy of the network on the test images: 60 %\n"
     ]
    }
   ],
   "source": [
    "correct = 0\n",
    "total = 0\n",
    "with torch.no_grad():\n",
    "    for data in test_loader:\n",
    "        images, labels = data\n",
    "        outputs = net(images)\n",
    "        _, predicted = torch.max(outputs.data, 1)\n",
    "        total += labels.size(0)\n",
    "        correct += (predicted == labels).sum().item()\n",
    "\n",
    "print('Accuracy of the network on the test images: %d %%' % (\n",
    "    100 * correct / total))"
   ]
  },
  {
   "cell_type": "code",
   "execution_count": null,
   "metadata": {
    "id": "Nwz2qCjwmQph"
   },
   "outputs": [],
   "source": [
    "Test accuracy - Adam = 56, RMS PRop = 60\n",
    " \n",
    "\n",
    "RMSProp optimizer performs better than Adams prop Keeping other hyparameters parameters same like the number of layer learning rate, epoch, batch size etc., although it takes longer tiem to train using Admas prop"
   ]
  },
  {
   "cell_type": "markdown",
   "metadata": {
    "id": "AXHPTN-dmN6W"
   },
   "source": [
    "### 2.2.4 Improve Your Model \n"
   ]
  },
  {
   "cell_type": "code",
   "execution_count": null,
   "metadata": {
    "id": "zJKeJw2QmN6X"
   },
   "outputs": [],
   "source": [
    "################################################################################\n",
    "# TODO:                                                                        #\n",
    "# Your training code here.                                                     #\n",
    "################################################################################\n",
    "################################################################################\n",
    "#                                 END OF YOUR CODE                             #\n",
    "################################################################################"
   ]
  },
  {
   "cell_type": "code",
   "execution_count": 1,
   "metadata": {
    "id": "Sf6K-sG_-1v-"
   },
   "outputs": [],
   "source": [
    "import torch\n",
    "import torch.nn as nn\n",
    "import torch.nn.functional as F"
   ]
  },
  {
   "cell_type": "code",
   "execution_count": 2,
   "metadata": {
    "colab": {
     "base_uri": "https://localhost:8080/",
     "height": 100,
     "referenced_widgets": [
      "0e854ae68108413bb5e8dab719725b83",
      "fd60f39a5f4847c2afcbf399828a0a7e",
      "537fa4f7f050452e88e342cdfbaaf90b",
      "a9eef87baec4455ab241df82e3ea9214",
      "c006b1e7bbc04b5f8799ca680c17b69b",
      "d80fa5f926b745aea6c8d35ddaa49e49",
      "522837d8b4ff4df0ad8598073248836a",
      "1aaad0cb677e442c81479624db153065"
     ]
    },
    "id": "d2pLnJ3vFEu9",
    "outputId": "25cad483-dc07-4950-c9d9-4c537931d124"
   },
   "outputs": [
    {
     "name": "stdout",
     "output_type": "stream",
     "text": [
      "Downloading https://www.cs.toronto.edu/~kriz/cifar-10-python.tar.gz to ./data/cifar-10-python.tar.gz\n"
     ]
    },
    {
     "data": {
      "application/vnd.jupyter.widget-view+json": {
       "model_id": "0e854ae68108413bb5e8dab719725b83",
       "version_major": 2,
       "version_minor": 0
      },
      "text/plain": [
       "HBox(children=(FloatProgress(value=1.0, bar_style='info', max=1.0), HTML(value='')))"
      ]
     },
     "metadata": {
      "tags": []
     },
     "output_type": "display_data"
    },
    {
     "name": "stdout",
     "output_type": "stream",
     "text": [
      "Extracting ./data/cifar-10-python.tar.gz to ./data\n",
      "Files already downloaded and verified\n"
     ]
    }
   ],
   "source": [
    "import torchvision\n",
    "import torchvision.transforms as transforms\n",
    "\n",
    "# Preprocessing steps on the training/testing data. You can define your own data augmentation\n",
    "# here, and PyTorch's API will do the rest for you.\n",
    "transform_train = transforms.Compose([\n",
    "    transforms.ToTensor(),\n",
    "    transforms.Normalize((0.4914, 0.4822, 0.4465), (0.2023, 0.1994, 0.2010)),\n",
    "])\n",
    "\n",
    "transform_test = transforms.Compose([\n",
    "    transforms.ToTensor(),\n",
    "    transforms.Normalize((0.4914, 0.4822, 0.4465), (0.2023, 0.1994, 0.2010)),\n",
    "])\n",
    "\n",
    "# This will automatically download the dataset for you if it cannot find the data in root\n",
    "trainset = torchvision.datasets.CIFAR10(root='./data', train=True, download=True, transform=transform_train)\n",
    "testset = torchvision.datasets.CIFAR10(root='./data', train=False, download=True, transform=transform_test)"
   ]
  },
  {
   "cell_type": "code",
   "execution_count": null,
   "metadata": {
    "id": "F-c_DzfcH0kE"
   },
   "outputs": [],
   "source": [
    "class CNNClassifier(nn.Module):\n",
    "    \n",
    "    def __init__(self):\n",
    "        super(CNNClassifier, self).__init__()\n",
    "        ################################################################################\n",
    "        # TODO:                                                                        #\n",
    "        # Construct a CNN with 2 or 3 convolutional layers and 1 linear layer for      #\n",
    "        # outputing class prediction. You are free to pick the hyperparameters         #\n",
    "        ################################################################################\n",
    "         # conv2d(no of input channels,number of output channels, kernel size,padding)   the input channel size of CIFAR 10 data is 3\n",
    "         #BatchNorm2d(number of channels)\n",
    "         #Maxpool2D(kernel size, stride)\n",
    "          #nn.Dropout2d(p)\n",
    "        self.conv_model = nn.Sequential(\n",
    "            # Conv Layer block 1\n",
    "                                        nn.Conv2d(3, 32, kernel_size=3, padding=1),\n",
    "                                        nn.BatchNorm2d(32),\n",
    "                                        nn.ReLU(),\n",
    "                                        nn.Conv2d(32, 64, kernel_size=3, stride=1, padding=1),\n",
    "                                        nn.ReLU(),\n",
    "                                        nn.MaxPool2d(2, 2), # output: 64 x 16 x 16\n",
    "\n",
    "            # Conv Layer block 2\n",
    "                                        nn.Conv2d(64, 128, kernel_size=3, stride=1, padding=1),\n",
    "                                        nn.BatchNorm2d(128),\n",
    "                                        nn.ReLU(),\n",
    "                                        nn.Conv2d(128, 128, kernel_size=3, stride=1, padding=1),\n",
    "                                        nn.ReLU(),\n",
    "                                        nn.MaxPool2d(2, 2), # output: 128 x 8 x 8\n",
    "                                        nn.Dropout2d(p=0.05),\n",
    "\n",
    "                                        # Conv Layer block 3\n",
    "                                        nn.Conv2d(128, 256, kernel_size=3, stride=1, padding=1),\n",
    "                                        nn.BatchNorm2d(256),\n",
    "                                        nn.ReLU(),\n",
    "                                        nn.Conv2d(256, 256, kernel_size=3, stride=1, padding=1),\n",
    "                                        nn.ReLU(),\n",
    "                                        nn.MaxPool2d(2, 2)) # output: 256 x 4 x 4  \n",
    "\n",
    "\n",
    "#Dense Layer\n",
    "        self.dense_layer = nn.Sequential(\n",
    "                                          nn.Dropout(p=0.1),\n",
    "                                          nn.Linear(4096, 1024),\n",
    "                                          nn.ReLU(inplace=True),\n",
    "                                          nn.Linear(1024, 512),\n",
    "                                          nn.ReLU(inplace=True),\n",
    "                                          nn.Dropout(p=0.1),\n",
    "                                          nn.Linear(512, 10))\n",
    "\n",
    "\n",
    "        ################################################################################\n",
    "        #                                 END OF YOUR CODE                             #\n",
    "        ################################################################################\n",
    "        \n",
    "        \n",
    "    def forward(self, x):\n",
    "        ################################################################################\n",
    "        # TODO:                                                                        #\n",
    "        # Forward pass of your network. First extract feature with CNN, and predict    #\n",
    "        # class scores with linear layer. Be careful about your input/output shape.    #\n",
    "        ################################################################################\n",
    "        y = self.conv_model(x)\n",
    "        #flatten the result from Conv model\n",
    "        y = torch.flatten(y,1) # 1 --> dimension (N,16,5,5)\n",
    "        #y = y.view(y.size(o),-1)\n",
    "        y = self.dense_layer(y)\n",
    "        return y\n",
    "    \n",
    "net = CNNClassifier()\n",
    "        ################################################################################\n",
    "        #                                 END OF YOUR CODE                             #\n",
    "        ################################################################################"
   ]
  },
  {
   "cell_type": "code",
   "execution_count": 9,
   "metadata": {
    "id": "Q6ut_VQJ1emJ"
   },
   "outputs": [],
   "source": [
    "# 4 Conv Layer\n",
    "\n",
    "\n",
    "class CNNClassifier(nn.Module):\n",
    "    \n",
    "    def __init__(self):\n",
    "        super(CNNClassifier, self).__init__()\n",
    "        ################################################################################\n",
    "        # TODO:                                                                        #\n",
    "        # Construct a CNN with 2 or 3 convolutional layers and 1 linear layer for      #\n",
    "        # outputing class prediction. You are free to pick the hyperparameters         #\n",
    "        ################################################################################\n",
    "         # conv2d(no of input channels,number of output channels, kernel size)   the input channel size of CIFAR 10 data is 3\n",
    "        self.conv_model = nn.Sequential(nn.Conv2d(3,6,5),       # (N,3,32,32) --> (N,6,28,28) in_channels=3,out_channels=6,kernel_size=5\n",
    "                                        nn.ReLU(),                                                 # Relu --> Activation Function\n",
    "                                        nn.BatchNorm2d(6),\n",
    "                                        nn.Conv2d(6,12,5), \n",
    "                                        nn.ReLU(),                             # (N,6,28,28) --> (N,12,24,24)\n",
    "                                        nn.MaxPool2d(2,2),                                         # (N,12,24,24) --> (N,12,12,12)\n",
    "                                        nn.Dropout2d(p=0.05),\n",
    "                                        nn.Dropout2d(p=0.05),\n",
    "                                        nn.Conv2d(12,24,5),                    #(N,12,12,12) --> (N,24,8,8)\n",
    "                                        nn.BatchNorm2d(24),\n",
    "                                        nn.ReLU(),         \n",
    "                                        nn.Conv2d(24,48,5), nn.ReLU(),         #  (N,24,8,8)  --> (N,48,4,4) \n",
    "                                        nn.MaxPool2d(2,2))                     #(N,48,4,4) --> (N,48,2,2)\n",
    "\n",
    "\n",
    "#Dense Layer\n",
    "        self.dense_layer = nn.Sequential(nn.Linear(192,10))\n",
    "                                         #nn.Dropout2d(p=0.1),\n",
    "                                         #nn.ReLU(),                       #24*3*3 =  as input   \n",
    "                                         #nn.Linear(80,40),\n",
    "                                         #nn.ReLU(),\n",
    "                                         #nn.Linear(40,10))\n",
    "\n",
    "\n",
    "        ################################################################################\n",
    "        #                                 END OF YOUR CODE                             #\n",
    "        ################################################################################\n",
    "        \n",
    "        \n",
    "    def forward(self, x):\n",
    "        ################################################################################\n",
    "        # TODO:                                                                        #\n",
    "        # Forward pass of your network. First extract feature with CNN, and predict    #\n",
    "        # class scores with linear layer. Be careful about your input/output shape.    #\n",
    "        ################################################################################\n",
    "        y = self.conv_model(x)\n",
    "        #flatten the result from Conv model\n",
    "        y = torch.flatten(y,1) \n",
    "        y = self.dense_layer(y)\n",
    "        return y\n",
    "    \n",
    "net = CNNClassifier()\n",
    "        ################################################################################\n",
    "        #                                 END OF YOUR CODE                             #\n",
    "        ################################################################################"
   ]
  },
  {
   "cell_type": "code",
   "execution_count": 10,
   "metadata": {
    "id": "KX0bFHTo--jH"
   },
   "outputs": [],
   "source": [
    "# You can tune these hyperparameters as you like.\n",
    "num_epochs = 20\n",
    "lr = 1e-1\n",
    "n_input = 3072\n",
    "n_classes = 10\n",
    "batch_size = 64\n",
    "num_workers = 2\n",
    "\n",
    "train_loader = torch.utils.data.DataLoader(trainset, batch_size=32, shuffle=True, num_workers=2)\n",
    "test_loader = torch.utils.data.DataLoader(testset, batch_size=32, shuffle=False, num_workers=2)\n",
    "\n",
    "################################################################################\n",
    "# TODO:                                                                        #\n",
    "# Your training code here.                                                     #\n",
    "################################################################################\n",
    "\n",
    "\n",
    "import torch.optim as optim\n",
    "\n",
    "criterion = nn.CrossEntropyLoss()\n",
    "optimizer = optim.SGD(net.parameters(), lr=0.001, momentum=0.9)\n",
    "#optimizer = optim.Adam(net.parameters(), lr=0.001)\n",
    "\n",
    "\n",
    "################################################################################\n",
    "#                                 END OF YOUR CODE                             #\n",
    "################################################################################"
   ]
  },
  {
   "cell_type": "code",
   "execution_count": 14,
   "metadata": {
    "colab": {
     "base_uri": "https://localhost:8080/",
     "height": 34
    },
    "id": "AyPiKFmCA3ty",
    "outputId": "f6960730-ec25-4261-9f58-942cbc538c92"
   },
   "outputs": [
    {
     "name": "stdout",
     "output_type": "stream",
     "text": [
      "Finished Training\n"
     ]
    }
   ],
   "source": [
    "for epoch in range(num_epochs):  # loop over the dataset multiple times\n",
    "\n",
    "    running_loss = 0.0\n",
    "    for i, data in enumerate(train_loader, 0):\n",
    "        # get the inputs; data is a list of [inputs, labels]\n",
    "        inputs, labels = data\n",
    "\n",
    "        # zero the parameter gradients\n",
    "        optimizer.zero_grad()\n",
    "\n",
    "        # forward + backward + optimize\n",
    "        outputs = net(inputs)\n",
    "        loss = criterion(outputs, labels)\n",
    "        loss.backward()\n",
    "        optimizer.step()\n",
    "\n",
    "        # print statistics\n",
    "        running_loss += loss.item()\n",
    "        if i % 2000 == 1999:    # print every 2000 mini-batches\n",
    "            print('[%d, %5d] loss: %.3f' %\n",
    "                  (epoch + 1, i + 1, running_loss / 2000))\n",
    "            running_loss = 0.0\n",
    "\n",
    "print('Finished Training')"
   ]
  },
  {
   "cell_type": "code",
   "execution_count": 15,
   "metadata": {
    "colab": {
     "base_uri": "https://localhost:8080/",
     "height": 34
    },
    "id": "qEnfoxIi_-VL",
    "outputId": "1768e4ce-a560-45d8-c187-2212a83906a5"
   },
   "outputs": [
    {
     "name": "stdout",
     "output_type": "stream",
     "text": [
      "Accuracy of the network on the train images: 74 %\n"
     ]
    }
   ],
   "source": [
    "correct = 0\n",
    "total = 0\n",
    "with torch.no_grad():\n",
    "    for data in train_loader:\n",
    "        images, labels = data\n",
    "        outputs = net(images)\n",
    "        _, predicted = torch.max(outputs.data, 1)\n",
    "        total += labels.size(0)\n",
    "        correct += (predicted == labels).sum().item()\n",
    "\n",
    "print('Accuracy of the network on the train images: %d %%' % (\n",
    "    100 * correct / total))"
   ]
  },
  {
   "cell_type": "code",
   "execution_count": 17,
   "metadata": {
    "colab": {
     "base_uri": "https://localhost:8080/",
     "height": 34
    },
    "id": "Ehkm09h6ABTq",
    "outputId": "8b649e65-89cb-422b-a0fb-0566179f3d67"
   },
   "outputs": [
    {
     "name": "stdout",
     "output_type": "stream",
     "text": [
      "Accuracy of the network on the test images: 64 %\n"
     ]
    }
   ],
   "source": [
    "correct = 0\n",
    "total = 0\n",
    "with torch.no_grad():\n",
    "    for data in test_loader:\n",
    "        images, labels = data\n",
    "        outputs = net(images)\n",
    "        _, predicted = torch.max(outputs.data, 1)\n",
    "        total += labels.size(0)\n",
    "        correct += (predicted == labels).sum().item()\n",
    "\n",
    "print('Accuracy of the network on the test images: %d %%' % (\n",
    "    100 * correct / total))"
   ]
  },
  {
   "cell_type": "markdown",
   "metadata": {
    "id": "CoIQ-TDcDdls"
   },
   "source": [
    "Used Batch Norm and Drop out on the 4 CNN layers\n",
    "Note: Did not include the code with more layers of CNN since it was taking too long to train, also used lower epochs due to time constraint"
   ]
  }
 ],
 "metadata": {
  "colab": {
   "collapsed_sections": [
    "YcsJ2yuwmN4V",
    "nxDE84vqmN43",
    "Wf2SjvvRmN5u"
   ],
   "name": "Copy of DL_Assignment_2.ipynb",
   "provenance": []
  },
  "kernelspec": {
   "display_name": "Python 3",
   "language": "python",
   "name": "python3"
  },
  "language_info": {
   "codemirror_mode": {
    "name": "ipython",
    "version": 3
   },
   "file_extension": ".py",
   "mimetype": "text/x-python",
   "name": "python",
   "nbconvert_exporter": "python",
   "pygments_lexer": "ipython3",
   "version": "3.7.6"
  },
  "widgets": {
   "application/vnd.jupyter.widget-state+json": {
    "0077eb2ea5f64e0e84f53f98462842b5": {
     "model_module": "@jupyter-widgets/base",
     "model_name": "LayoutModel",
     "state": {
      "_model_module": "@jupyter-widgets/base",
      "_model_module_version": "1.2.0",
      "_model_name": "LayoutModel",
      "_view_count": null,
      "_view_module": "@jupyter-widgets/base",
      "_view_module_version": "1.2.0",
      "_view_name": "LayoutView",
      "align_content": null,
      "align_items": null,
      "align_self": null,
      "border": null,
      "bottom": null,
      "display": null,
      "flex": null,
      "flex_flow": null,
      "grid_area": null,
      "grid_auto_columns": null,
      "grid_auto_flow": null,
      "grid_auto_rows": null,
      "grid_column": null,
      "grid_gap": null,
      "grid_row": null,
      "grid_template_areas": null,
      "grid_template_columns": null,
      "grid_template_rows": null,
      "height": null,
      "justify_content": null,
      "justify_items": null,
      "left": null,
      "margin": null,
      "max_height": null,
      "max_width": null,
      "min_height": null,
      "min_width": null,
      "object_fit": null,
      "object_position": null,
      "order": null,
      "overflow": null,
      "overflow_x": null,
      "overflow_y": null,
      "padding": null,
      "right": null,
      "top": null,
      "visibility": null,
      "width": null
     }
    },
    "06528836c93a401cb180a02b31359524": {
     "model_module": "@jupyter-widgets/controls",
     "model_name": "HTMLModel",
     "state": {
      "_dom_classes": [],
      "_model_module": "@jupyter-widgets/controls",
      "_model_module_version": "1.5.0",
      "_model_name": "HTMLModel",
      "_view_count": null,
      "_view_module": "@jupyter-widgets/controls",
      "_view_module_version": "1.5.0",
      "_view_name": "HTMLView",
      "description": "",
      "description_tooltip": null,
      "layout": "IPY_MODEL_9f8e647ec1644becbdc843fbc86e3380",
      "placeholder": "​",
      "style": "IPY_MODEL_ea7bba3d57504e63b137aab85816b4d5",
      "value": " 170500096/? [00:20&lt;00:00, 72578785.65it/s]"
     }
    },
    "070c2d910c5444bb88990e2945dbaaec": {
     "model_module": "@jupyter-widgets/controls",
     "model_name": "HBoxModel",
     "state": {
      "_dom_classes": [],
      "_model_module": "@jupyter-widgets/controls",
      "_model_module_version": "1.5.0",
      "_model_name": "HBoxModel",
      "_view_count": null,
      "_view_module": "@jupyter-widgets/controls",
      "_view_module_version": "1.5.0",
      "_view_name": "HBoxView",
      "box_style": "",
      "children": [
       "IPY_MODEL_241f719b7ec94f66b6496b5ae77ed850",
       "IPY_MODEL_06528836c93a401cb180a02b31359524"
      ],
      "layout": "IPY_MODEL_bf6aeaadb59843b5a29c7818b0f921a4"
     }
    },
    "0e854ae68108413bb5e8dab719725b83": {
     "model_module": "@jupyter-widgets/controls",
     "model_name": "HBoxModel",
     "state": {
      "_dom_classes": [],
      "_model_module": "@jupyter-widgets/controls",
      "_model_module_version": "1.5.0",
      "_model_name": "HBoxModel",
      "_view_count": null,
      "_view_module": "@jupyter-widgets/controls",
      "_view_module_version": "1.5.0",
      "_view_name": "HBoxView",
      "box_style": "",
      "children": [
       "IPY_MODEL_537fa4f7f050452e88e342cdfbaaf90b",
       "IPY_MODEL_a9eef87baec4455ab241df82e3ea9214"
      ],
      "layout": "IPY_MODEL_fd60f39a5f4847c2afcbf399828a0a7e"
     }
    },
    "1aaad0cb677e442c81479624db153065": {
     "model_module": "@jupyter-widgets/base",
     "model_name": "LayoutModel",
     "state": {
      "_model_module": "@jupyter-widgets/base",
      "_model_module_version": "1.2.0",
      "_model_name": "LayoutModel",
      "_view_count": null,
      "_view_module": "@jupyter-widgets/base",
      "_view_module_version": "1.2.0",
      "_view_name": "LayoutView",
      "align_content": null,
      "align_items": null,
      "align_self": null,
      "border": null,
      "bottom": null,
      "display": null,
      "flex": null,
      "flex_flow": null,
      "grid_area": null,
      "grid_auto_columns": null,
      "grid_auto_flow": null,
      "grid_auto_rows": null,
      "grid_column": null,
      "grid_gap": null,
      "grid_row": null,
      "grid_template_areas": null,
      "grid_template_columns": null,
      "grid_template_rows": null,
      "height": null,
      "justify_content": null,
      "justify_items": null,
      "left": null,
      "margin": null,
      "max_height": null,
      "max_width": null,
      "min_height": null,
      "min_width": null,
      "object_fit": null,
      "object_position": null,
      "order": null,
      "overflow": null,
      "overflow_x": null,
      "overflow_y": null,
      "padding": null,
      "right": null,
      "top": null,
      "visibility": null,
      "width": null
     }
    },
    "241f719b7ec94f66b6496b5ae77ed850": {
     "model_module": "@jupyter-widgets/controls",
     "model_name": "FloatProgressModel",
     "state": {
      "_dom_classes": [],
      "_model_module": "@jupyter-widgets/controls",
      "_model_module_version": "1.5.0",
      "_model_name": "FloatProgressModel",
      "_view_count": null,
      "_view_module": "@jupyter-widgets/controls",
      "_view_module_version": "1.5.0",
      "_view_name": "ProgressView",
      "bar_style": "info",
      "description": "",
      "description_tooltip": null,
      "layout": "IPY_MODEL_9137101b317a4261bfcfad2e002ce41e",
      "max": 1,
      "min": 0,
      "orientation": "horizontal",
      "style": "IPY_MODEL_73a8b59ff76e4d7983e364fec52eccd7",
      "value": 1
     }
    },
    "274c0e74340045a881b4aa8d13b1e1a2": {
     "model_module": "@jupyter-widgets/controls",
     "model_name": "HBoxModel",
     "state": {
      "_dom_classes": [],
      "_model_module": "@jupyter-widgets/controls",
      "_model_module_version": "1.5.0",
      "_model_name": "HBoxModel",
      "_view_count": null,
      "_view_module": "@jupyter-widgets/controls",
      "_view_module_version": "1.5.0",
      "_view_name": "HBoxView",
      "box_style": "",
      "children": [
       "IPY_MODEL_ca16990a99cb445fbf35b516d9deb3b3",
       "IPY_MODEL_40c1d5a4f9854259a906cb8b6339cda8"
      ],
      "layout": "IPY_MODEL_bb452709a08843919787948ab5171fc0"
     }
    },
    "2d69357989f14d7db7623f72cae87875": {
     "model_module": "@jupyter-widgets/base",
     "model_name": "LayoutModel",
     "state": {
      "_model_module": "@jupyter-widgets/base",
      "_model_module_version": "1.2.0",
      "_model_name": "LayoutModel",
      "_view_count": null,
      "_view_module": "@jupyter-widgets/base",
      "_view_module_version": "1.2.0",
      "_view_name": "LayoutView",
      "align_content": null,
      "align_items": null,
      "align_self": null,
      "border": null,
      "bottom": null,
      "display": null,
      "flex": null,
      "flex_flow": null,
      "grid_area": null,
      "grid_auto_columns": null,
      "grid_auto_flow": null,
      "grid_auto_rows": null,
      "grid_column": null,
      "grid_gap": null,
      "grid_row": null,
      "grid_template_areas": null,
      "grid_template_columns": null,
      "grid_template_rows": null,
      "height": null,
      "justify_content": null,
      "justify_items": null,
      "left": null,
      "margin": null,
      "max_height": null,
      "max_width": null,
      "min_height": null,
      "min_width": null,
      "object_fit": null,
      "object_position": null,
      "order": null,
      "overflow": null,
      "overflow_x": null,
      "overflow_y": null,
      "padding": null,
      "right": null,
      "top": null,
      "visibility": null,
      "width": null
     }
    },
    "40c1d5a4f9854259a906cb8b6339cda8": {
     "model_module": "@jupyter-widgets/controls",
     "model_name": "HTMLModel",
     "state": {
      "_dom_classes": [],
      "_model_module": "@jupyter-widgets/controls",
      "_model_module_version": "1.5.0",
      "_model_name": "HTMLModel",
      "_view_count": null,
      "_view_module": "@jupyter-widgets/controls",
      "_view_module_version": "1.5.0",
      "_view_name": "HTMLView",
      "description": "",
      "description_tooltip": null,
      "layout": "IPY_MODEL_0077eb2ea5f64e0e84f53f98462842b5",
      "placeholder": "​",
      "style": "IPY_MODEL_a3539104e4d14870be3ceb617099d15d",
      "value": " 170500096/? [00:30&lt;00:00, 17409172.45it/s]"
     }
    },
    "522837d8b4ff4df0ad8598073248836a": {
     "model_module": "@jupyter-widgets/controls",
     "model_name": "DescriptionStyleModel",
     "state": {
      "_model_module": "@jupyter-widgets/controls",
      "_model_module_version": "1.5.0",
      "_model_name": "DescriptionStyleModel",
      "_view_count": null,
      "_view_module": "@jupyter-widgets/base",
      "_view_module_version": "1.2.0",
      "_view_name": "StyleView",
      "description_width": ""
     }
    },
    "537fa4f7f050452e88e342cdfbaaf90b": {
     "model_module": "@jupyter-widgets/controls",
     "model_name": "FloatProgressModel",
     "state": {
      "_dom_classes": [],
      "_model_module": "@jupyter-widgets/controls",
      "_model_module_version": "1.5.0",
      "_model_name": "FloatProgressModel",
      "_view_count": null,
      "_view_module": "@jupyter-widgets/controls",
      "_view_module_version": "1.5.0",
      "_view_name": "ProgressView",
      "bar_style": "info",
      "description": "",
      "description_tooltip": null,
      "layout": "IPY_MODEL_d80fa5f926b745aea6c8d35ddaa49e49",
      "max": 1,
      "min": 0,
      "orientation": "horizontal",
      "style": "IPY_MODEL_c006b1e7bbc04b5f8799ca680c17b69b",
      "value": 1
     }
    },
    "73a8b59ff76e4d7983e364fec52eccd7": {
     "model_module": "@jupyter-widgets/controls",
     "model_name": "ProgressStyleModel",
     "state": {
      "_model_module": "@jupyter-widgets/controls",
      "_model_module_version": "1.5.0",
      "_model_name": "ProgressStyleModel",
      "_view_count": null,
      "_view_module": "@jupyter-widgets/base",
      "_view_module_version": "1.2.0",
      "_view_name": "StyleView",
      "bar_color": null,
      "description_width": "initial"
     }
    },
    "9137101b317a4261bfcfad2e002ce41e": {
     "model_module": "@jupyter-widgets/base",
     "model_name": "LayoutModel",
     "state": {
      "_model_module": "@jupyter-widgets/base",
      "_model_module_version": "1.2.0",
      "_model_name": "LayoutModel",
      "_view_count": null,
      "_view_module": "@jupyter-widgets/base",
      "_view_module_version": "1.2.0",
      "_view_name": "LayoutView",
      "align_content": null,
      "align_items": null,
      "align_self": null,
      "border": null,
      "bottom": null,
      "display": null,
      "flex": null,
      "flex_flow": null,
      "grid_area": null,
      "grid_auto_columns": null,
      "grid_auto_flow": null,
      "grid_auto_rows": null,
      "grid_column": null,
      "grid_gap": null,
      "grid_row": null,
      "grid_template_areas": null,
      "grid_template_columns": null,
      "grid_template_rows": null,
      "height": null,
      "justify_content": null,
      "justify_items": null,
      "left": null,
      "margin": null,
      "max_height": null,
      "max_width": null,
      "min_height": null,
      "min_width": null,
      "object_fit": null,
      "object_position": null,
      "order": null,
      "overflow": null,
      "overflow_x": null,
      "overflow_y": null,
      "padding": null,
      "right": null,
      "top": null,
      "visibility": null,
      "width": null
     }
    },
    "9f8e647ec1644becbdc843fbc86e3380": {
     "model_module": "@jupyter-widgets/base",
     "model_name": "LayoutModel",
     "state": {
      "_model_module": "@jupyter-widgets/base",
      "_model_module_version": "1.2.0",
      "_model_name": "LayoutModel",
      "_view_count": null,
      "_view_module": "@jupyter-widgets/base",
      "_view_module_version": "1.2.0",
      "_view_name": "LayoutView",
      "align_content": null,
      "align_items": null,
      "align_self": null,
      "border": null,
      "bottom": null,
      "display": null,
      "flex": null,
      "flex_flow": null,
      "grid_area": null,
      "grid_auto_columns": null,
      "grid_auto_flow": null,
      "grid_auto_rows": null,
      "grid_column": null,
      "grid_gap": null,
      "grid_row": null,
      "grid_template_areas": null,
      "grid_template_columns": null,
      "grid_template_rows": null,
      "height": null,
      "justify_content": null,
      "justify_items": null,
      "left": null,
      "margin": null,
      "max_height": null,
      "max_width": null,
      "min_height": null,
      "min_width": null,
      "object_fit": null,
      "object_position": null,
      "order": null,
      "overflow": null,
      "overflow_x": null,
      "overflow_y": null,
      "padding": null,
      "right": null,
      "top": null,
      "visibility": null,
      "width": null
     }
    },
    "a3539104e4d14870be3ceb617099d15d": {
     "model_module": "@jupyter-widgets/controls",
     "model_name": "DescriptionStyleModel",
     "state": {
      "_model_module": "@jupyter-widgets/controls",
      "_model_module_version": "1.5.0",
      "_model_name": "DescriptionStyleModel",
      "_view_count": null,
      "_view_module": "@jupyter-widgets/base",
      "_view_module_version": "1.2.0",
      "_view_name": "StyleView",
      "description_width": ""
     }
    },
    "a9eef87baec4455ab241df82e3ea9214": {
     "model_module": "@jupyter-widgets/controls",
     "model_name": "HTMLModel",
     "state": {
      "_dom_classes": [],
      "_model_module": "@jupyter-widgets/controls",
      "_model_module_version": "1.5.0",
      "_model_name": "HTMLModel",
      "_view_count": null,
      "_view_module": "@jupyter-widgets/controls",
      "_view_module_version": "1.5.0",
      "_view_name": "HTMLView",
      "description": "",
      "description_tooltip": null,
      "layout": "IPY_MODEL_1aaad0cb677e442c81479624db153065",
      "placeholder": "​",
      "style": "IPY_MODEL_522837d8b4ff4df0ad8598073248836a",
      "value": " 170500096/? [00:30&lt;00:00, 16659419.42it/s]"
     }
    },
    "bb452709a08843919787948ab5171fc0": {
     "model_module": "@jupyter-widgets/base",
     "model_name": "LayoutModel",
     "state": {
      "_model_module": "@jupyter-widgets/base",
      "_model_module_version": "1.2.0",
      "_model_name": "LayoutModel",
      "_view_count": null,
      "_view_module": "@jupyter-widgets/base",
      "_view_module_version": "1.2.0",
      "_view_name": "LayoutView",
      "align_content": null,
      "align_items": null,
      "align_self": null,
      "border": null,
      "bottom": null,
      "display": null,
      "flex": null,
      "flex_flow": null,
      "grid_area": null,
      "grid_auto_columns": null,
      "grid_auto_flow": null,
      "grid_auto_rows": null,
      "grid_column": null,
      "grid_gap": null,
      "grid_row": null,
      "grid_template_areas": null,
      "grid_template_columns": null,
      "grid_template_rows": null,
      "height": null,
      "justify_content": null,
      "justify_items": null,
      "left": null,
      "margin": null,
      "max_height": null,
      "max_width": null,
      "min_height": null,
      "min_width": null,
      "object_fit": null,
      "object_position": null,
      "order": null,
      "overflow": null,
      "overflow_x": null,
      "overflow_y": null,
      "padding": null,
      "right": null,
      "top": null,
      "visibility": null,
      "width": null
     }
    },
    "bf6aeaadb59843b5a29c7818b0f921a4": {
     "model_module": "@jupyter-widgets/base",
     "model_name": "LayoutModel",
     "state": {
      "_model_module": "@jupyter-widgets/base",
      "_model_module_version": "1.2.0",
      "_model_name": "LayoutModel",
      "_view_count": null,
      "_view_module": "@jupyter-widgets/base",
      "_view_module_version": "1.2.0",
      "_view_name": "LayoutView",
      "align_content": null,
      "align_items": null,
      "align_self": null,
      "border": null,
      "bottom": null,
      "display": null,
      "flex": null,
      "flex_flow": null,
      "grid_area": null,
      "grid_auto_columns": null,
      "grid_auto_flow": null,
      "grid_auto_rows": null,
      "grid_column": null,
      "grid_gap": null,
      "grid_row": null,
      "grid_template_areas": null,
      "grid_template_columns": null,
      "grid_template_rows": null,
      "height": null,
      "justify_content": null,
      "justify_items": null,
      "left": null,
      "margin": null,
      "max_height": null,
      "max_width": null,
      "min_height": null,
      "min_width": null,
      "object_fit": null,
      "object_position": null,
      "order": null,
      "overflow": null,
      "overflow_x": null,
      "overflow_y": null,
      "padding": null,
      "right": null,
      "top": null,
      "visibility": null,
      "width": null
     }
    },
    "c006b1e7bbc04b5f8799ca680c17b69b": {
     "model_module": "@jupyter-widgets/controls",
     "model_name": "ProgressStyleModel",
     "state": {
      "_model_module": "@jupyter-widgets/controls",
      "_model_module_version": "1.5.0",
      "_model_name": "ProgressStyleModel",
      "_view_count": null,
      "_view_module": "@jupyter-widgets/base",
      "_view_module_version": "1.2.0",
      "_view_name": "StyleView",
      "bar_color": null,
      "description_width": "initial"
     }
    },
    "ca16990a99cb445fbf35b516d9deb3b3": {
     "model_module": "@jupyter-widgets/controls",
     "model_name": "FloatProgressModel",
     "state": {
      "_dom_classes": [],
      "_model_module": "@jupyter-widgets/controls",
      "_model_module_version": "1.5.0",
      "_model_name": "FloatProgressModel",
      "_view_count": null,
      "_view_module": "@jupyter-widgets/controls",
      "_view_module_version": "1.5.0",
      "_view_name": "ProgressView",
      "bar_style": "info",
      "description": "",
      "description_tooltip": null,
      "layout": "IPY_MODEL_2d69357989f14d7db7623f72cae87875",
      "max": 1,
      "min": 0,
      "orientation": "horizontal",
      "style": "IPY_MODEL_db9eb79e6ee0485696cee9e855c1a052",
      "value": 1
     }
    },
    "d80fa5f926b745aea6c8d35ddaa49e49": {
     "model_module": "@jupyter-widgets/base",
     "model_name": "LayoutModel",
     "state": {
      "_model_module": "@jupyter-widgets/base",
      "_model_module_version": "1.2.0",
      "_model_name": "LayoutModel",
      "_view_count": null,
      "_view_module": "@jupyter-widgets/base",
      "_view_module_version": "1.2.0",
      "_view_name": "LayoutView",
      "align_content": null,
      "align_items": null,
      "align_self": null,
      "border": null,
      "bottom": null,
      "display": null,
      "flex": null,
      "flex_flow": null,
      "grid_area": null,
      "grid_auto_columns": null,
      "grid_auto_flow": null,
      "grid_auto_rows": null,
      "grid_column": null,
      "grid_gap": null,
      "grid_row": null,
      "grid_template_areas": null,
      "grid_template_columns": null,
      "grid_template_rows": null,
      "height": null,
      "justify_content": null,
      "justify_items": null,
      "left": null,
      "margin": null,
      "max_height": null,
      "max_width": null,
      "min_height": null,
      "min_width": null,
      "object_fit": null,
      "object_position": null,
      "order": null,
      "overflow": null,
      "overflow_x": null,
      "overflow_y": null,
      "padding": null,
      "right": null,
      "top": null,
      "visibility": null,
      "width": null
     }
    },
    "db9eb79e6ee0485696cee9e855c1a052": {
     "model_module": "@jupyter-widgets/controls",
     "model_name": "ProgressStyleModel",
     "state": {
      "_model_module": "@jupyter-widgets/controls",
      "_model_module_version": "1.5.0",
      "_model_name": "ProgressStyleModel",
      "_view_count": null,
      "_view_module": "@jupyter-widgets/base",
      "_view_module_version": "1.2.0",
      "_view_name": "StyleView",
      "bar_color": null,
      "description_width": "initial"
     }
    },
    "ea7bba3d57504e63b137aab85816b4d5": {
     "model_module": "@jupyter-widgets/controls",
     "model_name": "DescriptionStyleModel",
     "state": {
      "_model_module": "@jupyter-widgets/controls",
      "_model_module_version": "1.5.0",
      "_model_name": "DescriptionStyleModel",
      "_view_count": null,
      "_view_module": "@jupyter-widgets/base",
      "_view_module_version": "1.2.0",
      "_view_name": "StyleView",
      "description_width": ""
     }
    },
    "fd60f39a5f4847c2afcbf399828a0a7e": {
     "model_module": "@jupyter-widgets/base",
     "model_name": "LayoutModel",
     "state": {
      "_model_module": "@jupyter-widgets/base",
      "_model_module_version": "1.2.0",
      "_model_name": "LayoutModel",
      "_view_count": null,
      "_view_module": "@jupyter-widgets/base",
      "_view_module_version": "1.2.0",
      "_view_name": "LayoutView",
      "align_content": null,
      "align_items": null,
      "align_self": null,
      "border": null,
      "bottom": null,
      "display": null,
      "flex": null,
      "flex_flow": null,
      "grid_area": null,
      "grid_auto_columns": null,
      "grid_auto_flow": null,
      "grid_auto_rows": null,
      "grid_column": null,
      "grid_gap": null,
      "grid_row": null,
      "grid_template_areas": null,
      "grid_template_columns": null,
      "grid_template_rows": null,
      "height": null,
      "justify_content": null,
      "justify_items": null,
      "left": null,
      "margin": null,
      "max_height": null,
      "max_width": null,
      "min_height": null,
      "min_width": null,
      "object_fit": null,
      "object_position": null,
      "order": null,
      "overflow": null,
      "overflow_x": null,
      "overflow_y": null,
      "padding": null,
      "right": null,
      "top": null,
      "visibility": null,
      "width": null
     }
    }
   }
  }
 },
 "nbformat": 4,
 "nbformat_minor": 1
}
